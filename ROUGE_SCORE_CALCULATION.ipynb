{
 "cells": [
  {
   "cell_type": "markdown",
   "id": "d0cc7c18-cf21-45ff-95f6-433757266e98",
   "metadata": {},
   "source": [
    "# LLM Response evaluation using ROUGE SCORE"
   ]
  },
  {
   "cell_type": "code",
   "execution_count": 1,
   "id": "48bc48ea-f7db-4748-b6fa-aab7260fd928",
   "metadata": {},
   "outputs": [
    {
     "name": "stdout",
     "output_type": "stream",
     "text": [
      "Collecting rouge-score\n",
      "  Downloading rouge_score-0.1.2.tar.gz (17 kB)\n",
      "  Preparing metadata (setup.py): started\n",
      "  Preparing metadata (setup.py): finished with status 'done'\n",
      "Requirement already satisfied: absl-py in c:\\users\\janardhan\\anaconda3\\lib\\site-packages (from rouge-score) (2.1.0)\n",
      "Requirement already satisfied: nltk in c:\\users\\janardhan\\anaconda3\\lib\\site-packages (from rouge-score) (3.9.1)\n",
      "Requirement already satisfied: numpy in c:\\users\\janardhan\\anaconda3\\lib\\site-packages (from rouge-score) (1.26.4)\n",
      "Requirement already satisfied: six>=1.14.0 in c:\\users\\janardhan\\anaconda3\\lib\\site-packages (from rouge-score) (1.16.0)\n",
      "Requirement already satisfied: click in c:\\users\\janardhan\\anaconda3\\lib\\site-packages (from nltk->rouge-score) (8.1.7)\n",
      "Requirement already satisfied: joblib in c:\\users\\janardhan\\anaconda3\\lib\\site-packages (from nltk->rouge-score) (1.2.0)\n",
      "Requirement already satisfied: regex>=2021.8.3 in c:\\users\\janardhan\\anaconda3\\lib\\site-packages (from nltk->rouge-score) (2023.10.3)\n",
      "Requirement already satisfied: tqdm in c:\\users\\janardhan\\anaconda3\\lib\\site-packages (from nltk->rouge-score) (4.66.5)\n",
      "Requirement already satisfied: colorama in c:\\users\\janardhan\\anaconda3\\lib\\site-packages (from click->nltk->rouge-score) (0.4.6)\n",
      "Building wheels for collected packages: rouge-score\n",
      "  Building wheel for rouge-score (setup.py): started\n",
      "  Building wheel for rouge-score (setup.py): finished with status 'done'\n",
      "  Created wheel for rouge-score: filename=rouge_score-0.1.2-py3-none-any.whl size=24970 sha256=346e1499cb5690583dc5623531d4d0c414ddba794dcf8a6f408d8c6e61b3ba96\n",
      "  Stored in directory: c:\\users\\janardhan\\appdata\\local\\pip\\cache\\wheels\\1e\\19\\43\\8a442dc83660ca25e163e1bd1f89919284ab0d0c1475475148\n",
      "Successfully built rouge-score\n",
      "Installing collected packages: rouge-score\n",
      "Successfully installed rouge-score-0.1.2\n"
     ]
    }
   ],
   "source": [
    "!pip install rouge-score"
   ]
  },
  {
   "cell_type": "markdown",
   "id": "c20d4b09-9744-4ef0-ad88-825186816d65",
   "metadata": {},
   "source": [
    "# Precision: Fraction of matched n-grams in the generated text.\n",
    "# Recall: Fraction of matched n-grams in the reference text.\n",
    "# F1-Score: Harmonic mean of precision and recall."
   ]
  },
  {
   "cell_type": "code",
   "execution_count": 19,
   "id": "88992128-f683-4969-842a-e4f725efa426",
   "metadata": {},
   "outputs": [
    {
     "name": "stdout",
     "output_type": "stream",
     "text": [
      "rouge1: Precision: 0.8182, Recall: 0.6923, F1: 0.7500\n",
      "rouge2: Precision: 0.7000, Recall: 0.5833, F1: 0.6364\n",
      "rouge3: Precision: 0.5556, Recall: 0.4545, F1: 0.5000\n",
      "rougeL: Precision: 0.8182, Recall: 0.6923, F1: 0.7500\n"
     ]
    }
   ],
   "source": [
    "from rouge_score import rouge_scorer\n",
    "\n",
    "# Reference and generated summaries\n",
    "reference = \"The cat sat on the mat, watching tom and jerry cartoon in television\"\n",
    "generated = \"The cat is sitting on the mat, watching tom and jerry\"\n",
    "\n",
    "# Initialize the ROUGE scorer\n",
    "#scorer = rouge_scorer.RougeScorer(['rouge1'], use_stemmer=True)\n",
    "#scorer = rouge_scorer.RougeScorer(['rouge1', 'rouge2'], use_stemmer=True)\n",
    "#scorer = rouge_scorer.RougeScorer(['rouge1', 'rouge2','rouge3'], use_stemmer=True)\n",
    "scorer = rouge_scorer.RougeScorer(['rouge1', 'rouge2','rouge3', 'rougeL'],use_stemmer=True)\n",
    "\n",
    "# Compute ROUGE scores\n",
    "scores = scorer.score(reference, generated)\n",
    "\n",
    "# Print results\n",
    "for rouge_type, score in scores.items():\n",
    "    print(f\"{rouge_type}: Precision: {score.precision:.4f}, Recall: {score.recall:.4f}, F1: {score.fmeasure:.4f}\")\n"
   ]
  },
  {
   "cell_type": "code",
   "execution_count": null,
   "id": "e63342e0-718f-4367-a8f2-00b742c15713",
   "metadata": {},
   "outputs": [],
   "source": []
  },
  {
   "cell_type": "code",
   "execution_count": null,
   "id": "b0f8814c-3ecc-49e5-8de4-d70dac3234e2",
   "metadata": {},
   "outputs": [],
   "source": []
  }
 ],
 "metadata": {
  "kernelspec": {
   "display_name": "Python 3 (ipykernel)",
   "language": "python",
   "name": "python3"
  },
  "language_info": {
   "codemirror_mode": {
    "name": "ipython",
    "version": 3
   },
   "file_extension": ".py",
   "mimetype": "text/x-python",
   "name": "python",
   "nbconvert_exporter": "python",
   "pygments_lexer": "ipython3",
   "version": "3.11.7"
  }
 },
 "nbformat": 4,
 "nbformat_minor": 5
}
