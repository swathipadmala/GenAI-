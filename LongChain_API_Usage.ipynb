{
 "cells": [
  {
   "cell_type": "markdown",
   "id": "abffafa5",
   "metadata": {},
   "source": [
    "# Save the key in environmental variable"
   ]
  },
  {
   "cell_type": "code",
   "execution_count": 1,
   "id": "5d75d83e",
   "metadata": {},
   "outputs": [],
   "source": [
    "import os\n",
    "#os.environ[\"OPENAI_API_KEY\"]=\"\"\n",
    "os.environ[\"OPENAI_API_KEY\"]=\"your_api_key\""
   ]
  },
  {
   "cell_type": "markdown",
   "id": "79adb420",
   "metadata": {},
   "source": [
    "# install langchain"
   ]
  },
  {
   "cell_type": "code",
   "execution_count": 2,
   "id": "e753f0d7",
   "metadata": {},
   "outputs": [
    {
     "name": "stdout",
     "output_type": "stream",
     "text": [
      "Defaulting to user installation because normal site-packages is not writeable\n",
      "Requirement already satisfied: langchain in c:\\users\\padma\\appdata\\roaming\\python\\python39\\site-packages (0.3.7)\n",
      "Requirement already satisfied: langchain-text-splitters<0.4.0,>=0.3.0 in c:\\users\\padma\\appdata\\roaming\\python\\python39\\site-packages (from langchain) (0.3.2)\n",
      "Requirement already satisfied: SQLAlchemy<3,>=1.4 in c:\\users\\padma\\appdata\\roaming\\python\\python39\\site-packages (from langchain) (2.0.35)\n",
      "Requirement already satisfied: langchain-core<0.4.0,>=0.3.15 in c:\\users\\padma\\appdata\\roaming\\python\\python39\\site-packages (from langchain) (0.3.18)\n",
      "Requirement already satisfied: numpy<2,>=1 in c:\\programdata\\anaconda3\\lib\\site-packages (from langchain) (1.21.5)\n",
      "Requirement already satisfied: aiohttp<4.0.0,>=3.8.3 in c:\\users\\padma\\appdata\\roaming\\python\\python39\\site-packages (from langchain) (3.10.10)\n",
      "Requirement already satisfied: async-timeout<5.0.0,>=4.0.0 in c:\\users\\padma\\appdata\\roaming\\python\\python39\\site-packages (from langchain) (4.0.3)\n",
      "Requirement already satisfied: tenacity!=8.4.0,<10,>=8.1.0 in c:\\users\\padma\\appdata\\roaming\\python\\python39\\site-packages (from langchain) (8.5.0)\n",
      "Requirement already satisfied: pydantic<3.0.0,>=2.7.4 in c:\\users\\padma\\appdata\\roaming\\python\\python39\\site-packages (from langchain) (2.9.2)\n",
      "Requirement already satisfied: requests<3,>=2 in c:\\users\\padma\\appdata\\roaming\\python\\python39\\site-packages (from langchain) (2.32.3)\n",
      "Requirement already satisfied: langsmith<0.2.0,>=0.1.17 in c:\\users\\padma\\appdata\\roaming\\python\\python39\\site-packages (from langchain) (0.1.143)\n",
      "Requirement already satisfied: PyYAML>=5.3 in c:\\users\\padma\\appdata\\roaming\\python\\python39\\site-packages (from langchain) (6.0.2)\n",
      "Requirement already satisfied: yarl<2.0,>=1.12.0 in c:\\users\\padma\\appdata\\roaming\\python\\python39\\site-packages (from aiohttp<4.0.0,>=3.8.3->langchain) (1.17.1)\n",
      "Requirement already satisfied: aiohappyeyeballs>=2.3.0 in c:\\users\\padma\\appdata\\roaming\\python\\python39\\site-packages (from aiohttp<4.0.0,>=3.8.3->langchain) (2.4.3)\n",
      "Requirement already satisfied: aiosignal>=1.1.2 in c:\\users\\padma\\appdata\\roaming\\python\\python39\\site-packages (from aiohttp<4.0.0,>=3.8.3->langchain) (1.3.1)\n",
      "Requirement already satisfied: multidict<7.0,>=4.5 in c:\\users\\padma\\appdata\\roaming\\python\\python39\\site-packages (from aiohttp<4.0.0,>=3.8.3->langchain) (6.1.0)\n",
      "Requirement already satisfied: frozenlist>=1.1.1 in c:\\users\\padma\\appdata\\roaming\\python\\python39\\site-packages (from aiohttp<4.0.0,>=3.8.3->langchain) (1.5.0)\n",
      "Requirement already satisfied: attrs>=17.3.0 in c:\\programdata\\anaconda3\\lib\\site-packages (from aiohttp<4.0.0,>=3.8.3->langchain) (21.4.0)\n",
      "Requirement already satisfied: typing-extensions>=4.7 in c:\\users\\padma\\appdata\\roaming\\python\\python39\\site-packages (from langchain-core<0.4.0,>=0.3.15->langchain) (4.12.2)\n",
      "Requirement already satisfied: jsonpatch<2.0,>=1.33 in c:\\users\\padma\\appdata\\roaming\\python\\python39\\site-packages (from langchain-core<0.4.0,>=0.3.15->langchain) (1.33)\n",
      "Requirement already satisfied: packaging<25,>=23.2 in c:\\users\\padma\\appdata\\roaming\\python\\python39\\site-packages (from langchain-core<0.4.0,>=0.3.15->langchain) (24.2)\n",
      "Requirement already satisfied: httpx<1,>=0.23.0 in c:\\users\\padma\\appdata\\roaming\\python\\python39\\site-packages (from langsmith<0.2.0,>=0.1.17->langchain) (0.27.2)\n",
      "Requirement already satisfied: requests-toolbelt<2.0.0,>=1.0.0 in c:\\users\\padma\\appdata\\roaming\\python\\python39\\site-packages (from langsmith<0.2.0,>=0.1.17->langchain) (1.0.0)\n",
      "Requirement already satisfied: orjson<4.0.0,>=3.9.14 in c:\\users\\padma\\appdata\\roaming\\python\\python39\\site-packages (from langsmith<0.2.0,>=0.1.17->langchain) (3.10.11)\n",
      "Requirement already satisfied: annotated-types>=0.6.0 in c:\\users\\padma\\appdata\\roaming\\python\\python39\\site-packages (from pydantic<3.0.0,>=2.7.4->langchain) (0.7.0)\n",
      "Requirement already satisfied: pydantic-core==2.23.4 in c:\\users\\padma\\appdata\\roaming\\python\\python39\\site-packages (from pydantic<3.0.0,>=2.7.4->langchain) (2.23.4)\n",
      "Requirement already satisfied: urllib3<3,>=1.21.1 in c:\\programdata\\anaconda3\\lib\\site-packages (from requests<3,>=2->langchain) (1.26.11)\n",
      "Requirement already satisfied: charset-normalizer<4,>=2 in c:\\programdata\\anaconda3\\lib\\site-packages (from requests<3,>=2->langchain) (2.0.4)\n",
      "Requirement already satisfied: idna<4,>=2.5 in c:\\programdata\\anaconda3\\lib\\site-packages (from requests<3,>=2->langchain) (3.3)\n",
      "Requirement already satisfied: certifi>=2017.4.17 in c:\\programdata\\anaconda3\\lib\\site-packages (from requests<3,>=2->langchain) (2022.9.14)\n",
      "Requirement already satisfied: greenlet!=0.4.17 in c:\\programdata\\anaconda3\\lib\\site-packages (from SQLAlchemy<3,>=1.4->langchain) (1.1.1)\n",
      "Requirement already satisfied: sniffio in c:\\programdata\\anaconda3\\lib\\site-packages (from httpx<1,>=0.23.0->langsmith<0.2.0,>=0.1.17->langchain) (1.2.0)\n",
      "Requirement already satisfied: httpcore==1.* in c:\\users\\padma\\appdata\\roaming\\python\\python39\\site-packages (from httpx<1,>=0.23.0->langsmith<0.2.0,>=0.1.17->langchain) (1.0.6)\n",
      "Requirement already satisfied: anyio in c:\\programdata\\anaconda3\\lib\\site-packages (from httpx<1,>=0.23.0->langsmith<0.2.0,>=0.1.17->langchain) (3.5.0)\n",
      "Requirement already satisfied: h11<0.15,>=0.13 in c:\\users\\padma\\appdata\\roaming\\python\\python39\\site-packages (from httpcore==1.*->httpx<1,>=0.23.0->langsmith<0.2.0,>=0.1.17->langchain) (0.14.0)\n",
      "Requirement already satisfied: jsonpointer>=1.9 in c:\\users\\padma\\appdata\\roaming\\python\\python39\\site-packages (from jsonpatch<2.0,>=1.33->langchain-core<0.4.0,>=0.3.15->langchain) (3.0.0)\n",
      "Requirement already satisfied: propcache>=0.2.0 in c:\\users\\padma\\appdata\\roaming\\python\\python39\\site-packages (from yarl<2.0,>=1.12.0->aiohttp<4.0.0,>=3.8.3->langchain) (0.2.0)\n"
     ]
    }
   ],
   "source": [
    "!pip install langchain"
   ]
  },
  {
   "cell_type": "markdown",
   "id": "161e0360",
   "metadata": {},
   "source": [
    "# import open-ai model from langchain"
   ]
  },
  {
   "cell_type": "code",
   "execution_count": 3,
   "id": "995b058c",
   "metadata": {},
   "outputs": [],
   "source": [
    "from langchain.llms import OpenAI"
   ]
  },
  {
   "cell_type": "markdown",
   "id": "42244eb8",
   "metadata": {},
   "source": [
    "# initialize the openai model"
   ]
  },
  {
   "cell_type": "code",
   "execution_count": 4,
   "id": "7115ad23",
   "metadata": {},
   "outputs": [
    {
     "name": "stderr",
     "output_type": "stream",
     "text": [
      "C:\\Users\\padma\\AppData\\Local\\Temp\\ipykernel_4512\\2716716714.py:1: LangChainDeprecationWarning: The class `OpenAI` was deprecated in LangChain 0.0.10 and will be removed in 1.0. An updated version of the class exists in the :class:`~langchain-openai package and should be used instead. To use it run `pip install -U :class:`~langchain-openai` and import as `from :class:`~langchain_openai import OpenAI``.\n",
      "  model = OpenAI()\n"
     ]
    }
   ],
   "source": [
    "model = OpenAI()"
   ]
  },
  {
   "cell_type": "markdown",
   "id": "7a8ce303",
   "metadata": {},
   "source": [
    "# Asking the quries"
   ]
  },
  {
   "cell_type": "code",
   "execution_count": 5,
   "id": "5c54cf8d",
   "metadata": {},
   "outputs": [
    {
     "data": {
      "text/plain": [
       "'\\n\\nThe new first law, also known as the law of conservation of energy, states that energy cannot be created or destroyed, but can only be transformed from one form to another. This means that the total amount of energy in a closed system remains constant. '"
      ]
     },
     "execution_count": 5,
     "metadata": {},
     "output_type": "execute_result"
    }
   ],
   "source": [
    "model.invoke(\"provide me details about new first law in two sentences\")"
   ]
  },
  {
   "cell_type": "code",
   "execution_count": 16,
   "id": "979e3530",
   "metadata": {},
   "outputs": [
    {
     "data": {
      "text/plain": [
       "\"\\n\\n1. Eiffel Tower: No trip to Paris is complete without a visit to the iconic Eiffel Tower, one of the most recognizable landmarks in the world.\\n\\n2. Louvre Museum: The Louvre is the world's largest and most visited art museum, housing a collection of over 35,000 works of art including the Mona Lisa and Venus de Milo.\\n\\n3. Notre-Dame Cathedral: This Gothic masterpiece is a must-visit for its stunning architecture, beautiful stained glass windows, and historical significance.\\n\\n4. Arc de Triomphe: This iconic monument stands at the top of the Champs-Élysées and offers panoramic views of the city.\\n\\n5. Montmartre: This charming neighborhood is known for its artistic history, winding streets, and the stunning Sacré-Cœur Basilica.\\n\\n6. Palace of Versailles: Just a short train ride from Paris, the Palace of Versailles is a must-visit for its opulent rooms, gardens, and rich history.\\n\\n7. Seine River Cruise: Seeing the city from the water is a unique and beautiful experience, and a Seine River cruise allows you to take in many of Paris' famous landmarks.\\n\\n8. Luxembourg Gardens: These beautiful gardens offer a peaceful escape from the bustling city\""
      ]
     },
     "execution_count": 16,
     "metadata": {},
     "output_type": "execute_result"
    }
   ],
   "source": [
    "model.invoke(\"As a traveller what are the best places to visit in paris\")"
   ]
  },
  {
   "cell_type": "code",
   "execution_count": 17,
   "id": "471cc29d",
   "metadata": {},
   "outputs": [
    {
     "data": {
      "text/plain": [
       "'\\n\\n1. What is the difference between a tuple and a list in Python?\\n2. How do you handle errors and exceptions in Python?\\n3. What is the purpose of the \"self\" keyword in Python?\\n4. Can you explain the difference between a shallow copy and a deep copy in Python?\\n5. How do you handle memory management in Python?'"
      ]
     },
     "execution_count": 17,
     "metadata": {},
     "output_type": "execute_result"
    }
   ],
   "source": [
    "model.invoke(\"As a python junior developer can you tell me what are the important interview question say atleast 5\")"
   ]
  },
  {
   "cell_type": "code",
   "execution_count": 19,
   "id": "5a0d1e9b",
   "metadata": {},
   "outputs": [
    {
     "data": {
      "text/plain": [
       "'\\n\\nOne animal that I believe would make a good suggestion is the dolphin. Dolphins are highly intelligent, social, and adaptable creatures. They are known for their playful nature and their ability to communicate with each other through a complex system of clicks and whistles. Additionally, dolphins have been shown to exhibit empathy and compassion, making them beloved by many. They are also important to their ecosystems, playing a crucial role in maintaining the balance of marine life. Overall, dolphins are fascinating creatures that would make a great suggestion for anyone looking to learn more about the animal kingdom.'"
      ]
     },
     "execution_count": 19,
     "metadata": {},
     "output_type": "execute_result"
    }
   ],
   "source": [
    "model.invoke(\"What animal do you think would be a good suggestion and why?'\")"
   ]
  },
  {
   "cell_type": "code",
   "execution_count": 20,
   "id": "3d7317b7",
   "metadata": {},
   "outputs": [
    {
     "data": {
      "text/plain": [
       "\"\\n\\nOne bird that would make a good suggestion is the American robin. This bird is a common sight in many backyards and parks throughout North America, making it easily accessible for people to observe and learn about. The robin is also a great example of a migratory bird, which could spark discussions about why and how birds migrate. Additionally, the robin's distinctive red breast and melodic singing make it a visually and audibly appealing bird to study. Its diet of insects and worms also presents opportunities for discussions about food chains and the role birds play in ecosystems.\""
      ]
     },
     "execution_count": 20,
     "metadata": {},
     "output_type": "execute_result"
    }
   ],
   "source": [
    "model.invoke(\"What bird do you think would be a good suggestion and why?'\")"
   ]
  },
  {
   "cell_type": "code",
   "execution_count": 37,
   "id": "458221b6",
   "metadata": {},
   "outputs": [
    {
     "data": {
      "text/plain": [
       "'\\n\\nAs a fresher in the field of Machine Learning and Artificial Intelligence, you can apply for entry-level positions such as:\\n\\n1. Data Scientist: This role involves using ML and AI techniques to analyze and interpret large datasets to extract valuable insights and make data-driven decisions.\\n\\n2. Machine Learning Engineer: This role involves developing, testing, and implementing ML models and algorithms to solve specific business problems.\\n\\n3. Artificial Intelligence Engineer: This role involves developing, testing, and implementing AI systems and applications, such as chatbots and virtual assistants.\\n\\n4. Data Analyst: This role involves using statistical and ML techniques to analyze data and provide insights to support business decisions.\\n\\n5. Natural Language Processing (NLP) Engineer: This role involves using ML and AI techniques to develop and improve systems that can understand and process human language.\\n\\n6. Computer Vision Engineer: This role involves using ML and AI techniques to develop and improve systems that can interpret and analyze visual data.\\n\\n7. Business Intelligence Analyst: This role involves using ML and AI techniques to analyze data and provide insights and recommendations to support business strategies.\\n\\n8. AI/ML Researcher: This role involves conducting research and developing new techniques and algorithms in the field of AI and ML.\\n\\nIt is important to note that the eligibility criteria may vary'"
      ]
     },
     "execution_count": 37,
     "metadata": {},
     "output_type": "execute_result"
    }
   ],
   "source": [
    "model.invoke(\"As a ML& AI fresher can you tell me the what kind of jobs are eligibility to apply\")"
   ]
  },
  {
   "cell_type": "code",
   "execution_count": 38,
   "id": "04947976",
   "metadata": {},
   "outputs": [
    {
     "data": {
      "text/plain": [
       "'\\n\\nLlama index and longchain models are two different methods used to assess risk in financial markets. Both models are used to predict the likelihood of market crashes or other significant changes in the market.\\n\\nThe llama index, also known as the Llama-Risk-Indicator, was developed by Nobel Prize-winning economist Robert Shiller. It is based on the idea that market sentiment can affect market movements, and that extreme levels of optimism or pessimism can indicate a potential market crash. The index measures the difference between the average level of the S&P 500 stock index and its 10-year average, and a higher value indicates a higher risk of a market downturn.\\n\\nOn the other hand, longchain models, also known as long-term trend models, focus on long-term trends and patterns in the market. These models use historical data to identify long-term trends in the market and make predictions based on those trends. They do not take into account short-term market sentiment or fluctuations.\\n\\nOne major difference between the two models is their focus on different time frames. The llama index looks at short-term market sentiment, while longchain models look at long-term trends. This means that the llama index may be more useful for short-term predictions, while longchain models may be better for long-term predictions.\\n\\n'"
      ]
     },
     "execution_count": 38,
     "metadata": {},
     "output_type": "execute_result"
    }
   ],
   "source": [
    "model.invoke(\"Can you tell me about the differences between llama index and longchain models\")"
   ]
  },
  {
   "cell_type": "markdown",
   "id": "5d4ed8e7",
   "metadata": {},
   "source": [
    "# importing chat openai model"
   ]
  },
  {
   "cell_type": "code",
   "execution_count": 6,
   "id": "4f359897",
   "metadata": {},
   "outputs": [
    {
     "name": "stderr",
     "output_type": "stream",
     "text": [
      "C:\\Users\\padma\\AppData\\Local\\Temp\\ipykernel_4512\\365326357.py:2: LangChainDeprecationWarning: The class `ChatOpenAI` was deprecated in LangChain 0.0.10 and will be removed in 1.0. An updated version of the class exists in the :class:`~langchain-openai package and should be used instead. To use it run `pip install -U :class:`~langchain-openai` and import as `from :class:`~langchain_openai import ChatOpenAI``.\n",
      "  chat=ChatOpenAI()\n"
     ]
    }
   ],
   "source": [
    "from langchain.chat_models import ChatOpenAI\n",
    "chat=ChatOpenAI()"
   ]
  },
  {
   "cell_type": "code",
   "execution_count": 21,
   "id": "1012ad04",
   "metadata": {},
   "outputs": [
    {
     "name": "stdout",
     "output_type": "stream",
     "text": [
      "Formulas are mathematical expressions that represent relationships between variables and constants. They are used to calculate values or solve problems in various mathematical concepts. Understanding and applying formulas correctly can help in making mathematical calculations more efficient and accurate.\n"
     ]
    }
   ],
   "source": [
    "from langchain.schema.messages import HumanMessage,SystemMessage\n",
    "messages=[\n",
    " SystemMessage(content=\"you are maths teacher\"),\n",
    " HumanMessage(content=\"explain about formula in three sentence\"),\n",
    "]\n",
    "responses=chat.invoke(messages)\n",
    "print(responses.content)"
   ]
  },
  {
   "cell_type": "code",
   "execution_count": 39,
   "id": "4d9e978e",
   "metadata": {},
   "outputs": [
    {
     "name": "stdout",
     "output_type": "stream",
     "text": [
      "I'm sorry, but I couldn't find any information specific to famous sweet houses in Ameerpet. Ameerpet is a commercial and residential area in Hyderabad, India, and there may be several sweet shops and bakeries in the area that offer a variety of sweets. You may want to explore the local markets and ask for recommendations from locals to discover popular sweet houses in Ameerpet.\n"
     ]
    }
   ],
   "source": [
    "from langchain.schema.messages import HumanMessage,SystemMessage\n",
    "messages=[\n",
    " SystemMessage(content=\"As a Sweet Lover\"),\n",
    " HumanMessage(content=\"What are the famous sweet houses in Ameerpet\"),\n",
    "]\n",
    "responses=chat.invoke(messages)\n",
    "print(responses.content)"
   ]
  },
  {
   "cell_type": "code",
   "execution_count": 41,
   "id": "2a5d4ac4",
   "metadata": {},
   "outputs": [
    {
     "name": "stdout",
     "output_type": "stream",
     "text": [
      "1. Karachi Bakery - Located in multiple areas including Banjara Hills, Gachibowli, and Begumpet.\n",
      "2. Paradise Biryani - Known for their delectable sweets like Double Ka Meetha, located in Secunderabad and Hitec City.\n",
      "3. G Pulla Reddy Sweets - Famous for their traditional Indian sweets, with outlets in Abids, Kukatpally, and Gachibowli.\n",
      "4. Almond House - Known for their wide range of sweets and dry fruits, situated in Himayat Nagar and Banjara Hills.\n",
      "5. Dadu's Mithai Vatika - Specializes in traditional Indian sweets and located in areas like Kukatpally and Gachibowli.\n"
     ]
    }
   ],
   "source": [
    "from langchain.schema.messages import HumanMessage,SystemMessage\n",
    "messages=[\n",
    " SystemMessage(content=\"As a Sweet Lover\"),\n",
    " HumanMessage(content=\"What are the famous sweet houses in Hyderabad and also you need to include the Area\"),\n",
    "]\n",
    "responses=chat.invoke(messages)\n",
    "print(responses.content)"
   ]
  },
  {
   "cell_type": "code",
   "execution_count": 42,
   "id": "70939afe",
   "metadata": {},
   "outputs": [
    {
     "name": "stdout",
     "output_type": "stream",
     "text": [
      "I'd be happy to provide some information about politics! Could you please specify which country's politics you are interested in learning about?\n"
     ]
    }
   ],
   "source": [
    "from langchain.schema.messages import HumanMessage,SystemMessage\n",
    "messages=[\n",
    " SystemMessage(content=\"As a Entusiyastic person\"),\n",
    " HumanMessage(content=\"Can you tell me about our politics\"),\n",
    "]\n",
    "responses=chat.invoke(messages)\n",
    "print(responses.content)"
   ]
  },
  {
   "cell_type": "code",
   "execution_count": 43,
   "id": "ff600dcc",
   "metadata": {},
   "outputs": [
    {
     "name": "stdout",
     "output_type": "stream",
     "text": [
      "Of course! Politics in India is a vibrant and diverse landscape with a multi-party system. The country operates as a federal parliamentary democratic republic, with the President as the head of state and the Prime Minister as the head of government. India's political scene is characterized by a wide range of parties representing various ideologies, interests, and regions.\n",
      "\n",
      "The two major national parties in India are the Bharatiya Janata Party (BJP) and the Indian National Congress (INC). The BJP is currently in power, with Narendra Modi serving as the Prime Minister. The INC is the main opposition party.\n",
      "\n",
      "Apart from these two parties, there are several regional parties that hold significant influence in their respective states. These parties often play a crucial role in national politics by forming alliances with the major parties.\n",
      "\n",
      "Elections in India are held regularly at the national, state, and local levels. The country follows a first-past-the-post electoral system, where the candidate with the most votes in a constituency wins the seat. Voter turnout in India is generally high, reflecting the active participation of the electorate in the democratic process.\n",
      "\n",
      "Overall, Indian politics is characterized by its diversity, complexity, and the active participation of its citizens.\n"
     ]
    }
   ],
   "source": [
    "from langchain.schema.messages import HumanMessage,SystemMessage\n",
    "messages=[\n",
    " SystemMessage(content=\"As a Entusiyastic person\"),\n",
    " HumanMessage(content=\"Can you tell me about our politics in india\"),\n",
    "]\n",
    "responses=chat.invoke(messages)\n",
    "print(responses.content)"
   ]
  },
  {
   "cell_type": "code",
   "execution_count": 26,
   "id": "c7587b65",
   "metadata": {},
   "outputs": [
    {
     "name": "stdout",
     "output_type": "stream",
     "text": [
      "A formula is a mathematical relationship or rule expressed using symbols and numbers. Formulas are used to calculate or solve problems in various mathematical concepts such as algebra, geometry, and calculus. Understanding and correctly applying formulas can help simplify complex problems and make mathematical calculations more efficient."
     ]
    }
   ],
   "source": [
    "response1=chat.stream(messages)\n",
    "for i1 in response1:\n",
    " print(i1.content,end=\"\",flush=True)"
   ]
  },
  {
   "cell_type": "code",
   "execution_count": 10,
   "id": "dfd4cc8a",
   "metadata": {},
   "outputs": [],
   "source": [
    "from langchain.prompts import PromptTemplate"
   ]
  },
  {
   "cell_type": "code",
   "execution_count": 11,
   "id": "0a8233b0",
   "metadata": {},
   "outputs": [],
   "source": [
    "prompt_template=PromptTemplate.from_template(\n",
    " \"as a {role} tellme about {content}.\"\n",
    ")"
   ]
  },
  {
   "cell_type": "code",
   "execution_count": 12,
   "id": "bc9096a7",
   "metadata": {},
   "outputs": [
    {
     "name": "stdout",
     "output_type": "stream",
     "text": [
      "as a Astrologer tellme about galaxy.\n"
     ]
    }
   ],
   "source": [
    "filled_prompt=prompt_template.format(role=\"Astrologer\", content=\"galaxy\")\n",
    "print(filled_prompt)"
   ]
  },
  {
   "cell_type": "code",
   "execution_count": 27,
   "id": "7ffe3fe5",
   "metadata": {},
   "outputs": [
    {
     "name": "stdout",
     "output_type": "stream",
     "text": [
      "as a Women tellme about Tell me about responsibilities.\n"
     ]
    }
   ],
   "source": [
    "filled_prompt=prompt_template.format(role=\"Women\", content=\"Tell me about responsibilities\")\n",
    "print(filled_prompt)"
   ]
  },
  {
   "cell_type": "code",
   "execution_count": 30,
   "id": "9db2ce8a",
   "metadata": {},
   "outputs": [
    {
     "name": "stdout",
     "output_type": "stream",
     "text": [
      "as a Student tellme about As a student can you tell me the how to behaviour to others.\n"
     ]
    }
   ],
   "source": [
    "filled_prompt=prompt_template.format(role=\"Student\", content=\"As a student can you tell me the how to behaviour to others\")\n",
    "print(filled_prompt)"
   ]
  },
  {
   "cell_type": "code",
   "execution_count": 13,
   "id": "721d875d",
   "metadata": {},
   "outputs": [],
   "source": [
    "prompt_and_model=prompt_template|model"
   ]
  },
  {
   "cell_type": "code",
   "execution_count": 14,
   "id": "b670c922",
   "metadata": {},
   "outputs": [
    {
     "name": "stdout",
     "output_type": "stream",
     "text": [
      "\n",
      "\n",
      "The galaxy is a vast and complex system of stars, planets, gas, and dust held together by gravity. Our own galaxy, the Milky Way, contains billions of stars and is estimated to be about 100,000 light-years in diameter. There are also countless other galaxies in the universe, each with their own unique characteristics and patterns.\n",
      "\n",
      "Astrologically speaking, the galaxy represents the larger cosmic forces and energies that influence our lives and the world around us. It is a symbol of the infinite possibilities and connections that exist within the universe. In astrology, the position and alignment of the planets and stars in the galaxy at the time of our birth can provide insight into our personality traits, strengths, and challenges.\n",
      "\n",
      "The galaxy also symbolizes expansion, growth, and evolution. As we continue to learn more about the universe and our place in it, our understanding and perspective on life also expands and evolves. The galaxy reminds us that we are a small part of something much larger and encourages us to embrace the unknown and seek new experiences and knowledge.\n"
     ]
    }
   ],
   "source": [
    "output=prompt_and_model.invoke({\"role\":\"Astrologer\",\"content\":\"galaxy\"})\n",
    "print(output)"
   ]
  },
  {
   "cell_type": "code",
   "execution_count": 29,
   "id": "95f5fc46",
   "metadata": {},
   "outputs": [
    {
     "name": "stdout",
     "output_type": "stream",
     "text": [
      "\n",
      "\n",
      "As a woman, there are many responsibilities that I have both in my personal and professional life. Some of these responsibilities include:\n",
      "\n",
      "1. Taking care of my family: As a wife, mother, sister, or daughter, I have a responsibility to take care of my family. This includes managing household tasks, providing emotional support, and making sure everyone's needs are met.\n",
      "\n",
      "2. Managing my career: I have a responsibility to work hard and excel in my career. This includes continuously learning and growing, taking on new challenges, and being a role model for other women in my field.\n",
      "\n",
      "3. Contributing to my community: I believe it is my responsibility to give back to my community and make a positive impact. This can include volunteering, donating to charities, or advocating for important causes.\n",
      "\n",
      "4. Taking care of my health: As a woman, I have a responsibility to take care of my physical, mental, and emotional health. This includes eating well, exercising, and seeking help when needed.\n",
      "\n",
      "5. Being financially responsible: I have a responsibility to manage my finances wisely and plan for my future. This includes budgeting, saving, and making smart investments.\n",
      "\n",
      "6. Standing up for my rights: As a woman, I have a responsibility to stand up for my rights\n"
     ]
    }
   ],
   "source": [
    "output=prompt_and_model.invoke({\"role\":\"Women\",\"content\":\"Tell me about responisibilities\"})\n",
    "print(output)"
   ]
  },
  {
   "cell_type": "code",
   "execution_count": 31,
   "id": "5eb595a3",
   "metadata": {},
   "outputs": [
    {
     "name": "stdout",
     "output_type": "stream",
     "text": [
      "\n",
      "\n",
      "As a student, I believe that behavior plays a crucial role in our academic and personal lives. Our behavior is a reflection of our thoughts, actions, and attitudes, and it can greatly impact our relationships, success, and overall well-being.\n",
      "\n",
      "In the academic setting, good behavior is essential for creating a positive learning environment. It includes being respectful towards teachers, classmates, and school staff, actively participating in class discussions, and following school rules and policies. Good behavior also involves being responsible for completing assignments and tasks on time, maintaining a positive attitude towards learning, and showing perseverance and determination in overcoming challenges.\n",
      "\n",
      "On the other hand, negative behavior can hinder our academic progress and create a disruptive learning environment for ourselves and others. This can include being disrespectful, disruptive, or confrontational towards teachers and classmates, being unprepared for class, and not taking academic responsibilities seriously.\n",
      "\n",
      "Apart from academics, behavior also plays a crucial role in our personal lives. It shapes our relationships with family, friends, and peers and influences how we interact with others. Good behavior in personal relationships includes being kind, empathetic, and understanding towards others, communicating effectively, and being a good listener. On the other hand, negative behavior such as being aggressive, disrespectful, or dishonest can damage relationships and hinder personal growth\n"
     ]
    }
   ],
   "source": [
    "output=prompt_and_model.invoke({\"role\":\"Student\",\"content\":\"behaviour\"})\n",
    "print(output)"
   ]
  },
  {
   "cell_type": "code",
   "execution_count": 32,
   "id": "45be1165",
   "metadata": {},
   "outputs": [
    {
     "name": "stdout",
     "output_type": "stream",
     "text": [
      "as a Ml fresher tellme about Can you tell me the what kind of can do get a high salary job.\n"
     ]
    }
   ],
   "source": [
    "filled_prompt=prompt_template.format(role=\"Ml fresher\", content=\"Can you tell me the what kind of can do get a high salary job\")\n",
    "print(filled_prompt)"
   ]
  },
  {
   "cell_type": "code",
   "execution_count": 33,
   "id": "56c616ed",
   "metadata": {},
   "outputs": [
    {
     "name": "stdout",
     "output_type": "stream",
     "text": [
      "\n",
      "\n",
      "As a fresher in the field of Machine Learning, I may not have completed any major projects yet. However, I have a strong understanding of the concepts and theories behind Machine Learning, and I am eager to apply my knowledge and skills to real-world projects.\n",
      "\n",
      "Some possible project ideas that I would like to explore as a fresher in Machine Learning could include:\n",
      "\n",
      "1. Sentiment Analysis for Social Media: This project would involve using Machine Learning algorithms to analyze social media posts and determine the sentiment (positive, negative, neutral) behind them. It could help businesses understand their customers' opinions and sentiments towards their products or services.\n",
      "\n",
      "2. Predictive Maintenance: This project would involve using Machine Learning techniques to predict when a machine or equipment is likely to fail, allowing companies to perform maintenance before a breakdown occurs. This could save businesses both time and money by avoiding unplanned downtime.\n",
      "\n",
      "3. Image Recognition: This project would involve using computer vision and deep learning techniques to develop a model that can accurately recognize and classify objects in images. This could have applications in various fields, such as self-driving cars, medical imaging, and surveillance.\n",
      "\n",
      "4. Chatbots: This project would involve developing a chatbot using Natural Language Processing (NLP) and AI techniques to interact with users and assist\n"
     ]
    }
   ],
   "source": [
    "output=prompt_and_model.invoke({\"role\":\"Ml fresher\",\"content\":\"projects\"})\n",
    "print(output)"
   ]
  },
  {
   "cell_type": "code",
   "execution_count": 34,
   "id": "68b198b9",
   "metadata": {},
   "outputs": [
    {
     "name": "stdout",
     "output_type": "stream",
     "text": [
      "\n",
      "\n",
      "Sure, I am an AI and I can explain the detailed steps of a project to you. Please provide me with the name of the project you would like to know about.\n"
     ]
    }
   ],
   "source": [
    "output=prompt_and_model.invoke({\"role\":\"AI\",\"content\":\"Can you explain detail steps to any one project\"})\n",
    "print(output)"
   ]
  },
  {
   "cell_type": "code",
   "execution_count": 35,
   "id": "7959be5f",
   "metadata": {},
   "outputs": [
    {
     "name": "stdout",
     "output_type": "stream",
     "text": [
      "\n",
      "\n",
      "Sentiment analysis for social media is a process of analyzing and interpreting the emotions, opinions, and attitudes expressed by users on various social media platforms. It uses natural language processing (NLP) and machine learning techniques to identify and extract sentiments from the text data posted by users.\n",
      "\n",
      "The goal of sentiment analysis is to understand the overall sentiment or attitude towards a particular topic, brand, product, or event on social media. This can be valuable for businesses, organizations, and individuals to gauge public opinion and make informed decisions.\n",
      "\n",
      "The process of sentiment analysis involves several steps, including data collection, data preprocessing, sentiment classification, and evaluation. Firstly, data is collected from various social media sources such as Twitter, Facebook, and Instagram. Then, the data is cleaned and preprocessed by removing noise, irrelevant information, and converting it into a suitable format for analysis.\n",
      "\n",
      "Next, sentiment classification techniques such as rule-based, machine learning, or deep learning models are used to classify the text data into positive, negative, or neutral sentiments. Rule-based models use predefined rules and lexicons to identify sentiments, while machine learning models learn from the data and classify sentiments based on patterns and features. Deep learning models use neural networks to extract features and classify sentiments.\n",
      "\n",
      "Finally, the accuracy and performance of the sentiment\n"
     ]
    }
   ],
   "source": [
    "output=prompt_and_model.invoke({\"role\":\"Student\",\"content\":\"Sentiment Analysis for Social Media\"})\n",
    "print(output)"
   ]
  },
  {
   "cell_type": "code",
   "execution_count": null,
   "id": "ea62d41f",
   "metadata": {},
   "outputs": [],
   "source": []
  }
 ],
 "metadata": {
  "kernelspec": {
   "display_name": "Python 3 (ipykernel)",
   "language": "python",
   "name": "python3"
  },
  "language_info": {
   "codemirror_mode": {
    "name": "ipython",
    "version": 3
   },
   "file_extension": ".py",
   "mimetype": "text/x-python",
   "name": "python",
   "nbconvert_exporter": "python",
   "pygments_lexer": "ipython3",
   "version": "3.9.13"
  }
 },
 "nbformat": 4,
 "nbformat_minor": 5
}
