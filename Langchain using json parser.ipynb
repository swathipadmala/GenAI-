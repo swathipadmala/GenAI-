{
 "cells": [
  {
   "cell_type": "markdown",
   "id": "0450ff50",
   "metadata": {},
   "source": [
    "# save the key in environmental variable"
   ]
  },
  {
   "cell_type": "code",
   "execution_count": 1,
   "id": "39e9fc0f",
   "metadata": {},
   "outputs": [],
   "source": [
    "import os\n",
    "#os.environ[\"OPENAI_API_KEY\"]=\"\"\n",
    "os.environ[\"OPENAI_API_KEY\"]=\"your_api_key\""
   ]
  },
  {
   "cell_type": "markdown",
   "id": "86448469",
   "metadata": {},
   "source": [
    "# import openai model"
   ]
  },
  {
   "cell_type": "code",
   "execution_count": 2,
   "id": "e4703534",
   "metadata": {},
   "outputs": [],
   "source": [
    "from langchain.llms import OpenAI"
   ]
  },
  {
   "cell_type": "markdown",
   "id": "4fa401e8",
   "metadata": {},
   "source": [
    "# initialize the open ai model"
   ]
  },
  {
   "cell_type": "code",
   "execution_count": 3,
   "id": "a4e981cd",
   "metadata": {},
   "outputs": [
    {
     "name": "stderr",
     "output_type": "stream",
     "text": [
      "C:\\Users\\padma\\AppData\\Local\\Temp\\ipykernel_10360\\2716716714.py:1: LangChainDeprecationWarning: The class `OpenAI` was deprecated in LangChain 0.0.10 and will be removed in 1.0. An updated version of the class exists in the :class:`~langchain-openai package and should be used instead. To use it run `pip install -U :class:`~langchain-openai` and import as `from :class:`~langchain_openai import OpenAI``.\n",
      "  model = OpenAI()\n"
     ]
    }
   ],
   "source": [
    "model = OpenAI()"
   ]
  },
  {
   "cell_type": "markdown",
   "id": "406e15b6",
   "metadata": {},
   "source": [
    "# asking the questions"
   ]
  },
  {
   "cell_type": "code",
   "execution_count": 4,
   "id": "876f6de2",
   "metadata": {},
   "outputs": [
    {
     "data": {
      "text/plain": [
       "'\\n\\nJoe Biden\\n'"
      ]
     },
     "execution_count": 4,
     "metadata": {},
     "output_type": "execute_result"
    }
   ],
   "source": [
    "model.invoke(\"who is president of USA\")"
   ]
  },
  {
   "cell_type": "code",
   "execution_count": 5,
   "id": "c31a9c65",
   "metadata": {},
   "outputs": [],
   "source": [
    "from langchain.prompts import PromptTemplate"
   ]
  },
  {
   "cell_type": "code",
   "execution_count": 6,
   "id": "58419e1b",
   "metadata": {},
   "outputs": [],
   "source": [
    "json_prompt=PromptTemplate.from_template(template=\"Return a JSON object with birthdate and birthplace key that answers the following question:{question}\")"
   ]
  },
  {
   "cell_type": "code",
   "execution_count": 114,
   "id": "d34bd5d0",
   "metadata": {},
   "outputs": [],
   "source": [
    "j_pipe = json_prompt|model"
   ]
  },
  {
   "cell_type": "code",
   "execution_count": 120,
   "id": "db23d9c6",
   "metadata": {},
   "outputs": [
    {
     "data": {
      "text/plain": [
       "'\\n\\n{\\n    \"birthdate\": \"May 28, 1923\",\\n    \"birthplace\": \"Nimmakuru, Madras Presidency, British India (now in Andhra Pradesh, India)\"\\n} '"
      ]
     },
     "execution_count": 120,
     "metadata": {},
     "output_type": "execute_result"
    }
   ],
   "source": [
    "j_pipe.invoke(\"where did NTR born \")"
   ]
  },
  {
   "cell_type": "markdown",
   "id": "6e1b9e3a",
   "metadata": {},
   "source": [
    "# import the json parser"
   ]
  },
  {
   "cell_type": "code",
   "execution_count": 121,
   "id": "fffad0cc",
   "metadata": {},
   "outputs": [],
   "source": [
    "from langchain.output_parsers.json import SimpleJsonOutputParser\n",
    "json_parser = SimpleJsonOutputParser()"
   ]
  },
  {
   "cell_type": "markdown",
   "id": "5f0ff106",
   "metadata": {},
   "source": [
    "# use the json parser"
   ]
  },
  {
   "cell_type": "code",
   "execution_count": 122,
   "id": "5a44b2b0",
   "metadata": {},
   "outputs": [],
   "source": [
    "j_pipe1 = json_prompt|model|json_parser"
   ]
  },
  {
   "cell_type": "markdown",
   "id": "186e9f7b",
   "metadata": {},
   "source": [
    "# asking the questions"
   ]
  },
  {
   "cell_type": "code",
   "execution_count": 123,
   "id": "334230ea",
   "metadata": {},
   "outputs": [
    {
     "data": {
      "text/plain": [
       "{'birthdate': 'May 28, 1923', 'birthplace': 'Nimmakuru, Andhra Pradesh, India'}"
      ]
     },
     "execution_count": 123,
     "metadata": {},
     "output_type": "execute_result"
    }
   ],
   "source": [
    "j_pipe1.invoke(\"where did NTR born\")"
   ]
  },
  {
   "cell_type": "code",
   "execution_count": 125,
   "id": "45245913",
   "metadata": {},
   "outputs": [
    {
     "data": {
      "text/plain": [
       "{'birthdate': 'May 28, 1923', 'birthplace': 'Nimmakuru, Andhra Pradesh, India'}"
      ]
     },
     "execution_count": 125,
     "metadata": {},
     "output_type": "execute_result"
    }
   ],
   "source": [
    "j_pipe1.invoke(\"where did NTR born provide me in json format\")"
   ]
  },
  {
   "cell_type": "code",
   "execution_count": 97,
   "id": "03b3aba7",
   "metadata": {},
   "outputs": [
    {
     "data": {
      "text/plain": [
       "{'question': 'Where did Swathi Padmala born?',\n",
       " 'answer': 'Swathi Padmala was born in Hyderabad, India.'}"
      ]
     },
     "execution_count": 97,
     "metadata": {},
     "output_type": "execute_result"
    }
   ],
   "source": [
    "j_pipe1.invoke(\"where did swathi padmala born\")"
   ]
  },
  {
   "cell_type": "code",
   "execution_count": 98,
   "id": "b06049dd",
   "metadata": {},
   "outputs": [
    {
     "data": {
      "text/plain": [
       "{'question': 'Where was Abdhul Kalam born and what are the names of his parents?',\n",
       " 'answer': {'birthPlace': 'Rameswaram, Tamil Nadu',\n",
       "  'parents': {'father': 'Jainulabdeen Marakayar',\n",
       "   'mother': 'Ashiamma Jainulabdeen'}}}"
      ]
     },
     "execution_count": 98,
     "metadata": {},
     "output_type": "execute_result"
    }
   ],
   "source": [
    "j_pipe1.invoke(\"where did Abdhul Kalam born and what is the names of his parents provide me in json format\")"
   ]
  },
  {
   "cell_type": "code",
   "execution_count": 99,
   "id": "22099bc5",
   "metadata": {},
   "outputs": [
    {
     "data": {
      "text/plain": [
       "'\\n\\n\\n{\\n  \"question\": \"Where did M.K.Gandhi born?\",\\n  \"answer\": \"M.K.Gandhi was born in Porbandar, Gujarat, India.\"\\n}'"
      ]
     },
     "execution_count": 99,
     "metadata": {},
     "output_type": "execute_result"
    }
   ],
   "source": [
    "j_pipe.invoke(\"where did M.K.Gandhi born\")"
   ]
  },
  {
   "cell_type": "code",
   "execution_count": 100,
   "id": "9fb43604",
   "metadata": {},
   "outputs": [
    {
     "data": {
      "text/plain": [
       "'\\n\\n{\\n  \"question\": \"Where was Narendra Modi born?\",\\n  \"answer\": \"Narendra Modi was born in Vadnagar, Mehsana district, Gujarat, India.\"\\n}'"
      ]
     },
     "execution_count": 100,
     "metadata": {},
     "output_type": "execute_result"
    }
   ],
   "source": [
    "j_pipe.invoke(\"where did Narendhar Modi born\")"
   ]
  },
  {
   "cell_type": "code",
   "execution_count": 101,
   "id": "d2453dbe",
   "metadata": {},
   "outputs": [
    {
     "data": {
      "text/plain": [
       "'\\n\\n\\n{\\n    \"question\": \"Where did Narendhar Modi born?\",\\n    \"answer\": \"Narendra Modi was born in Vadnagar, a small town in the Mehsana district of Gujarat, India.\"\\n}'"
      ]
     },
     "execution_count": 101,
     "metadata": {},
     "output_type": "execute_result"
    }
   ],
   "source": [
    "j_pipe.invoke(\"where did Narendhar Modi born provide me in json format\")"
   ]
  },
  {
   "cell_type": "code",
   "execution_count": 102,
   "id": "964eb700",
   "metadata": {},
   "outputs": [
    {
     "data": {
      "text/plain": [
       "'\\n\\n{\\n  \"question\": \"Where was Narendra Modi born?\",\\n\\n  \"answer\": \"Narendra Modi was born in Vadnagar, Gujarat, India.\",\\n\\n  \"csv\": \"Narendra Modi, Vadnagar, Gujarat, India\"\\n}'"
      ]
     },
     "execution_count": 102,
     "metadata": {},
     "output_type": "execute_result"
    }
   ],
   "source": [
    "j_pipe.invoke(\"where did Narendhar Modi born provide me in csv format\")"
   ]
  },
  {
   "cell_type": "code",
   "execution_count": 103,
   "id": "f4469a0f",
   "metadata": {},
   "outputs": [
    {
     "data": {
      "text/plain": [
       "'\\n\\n\\n{\\n    \"question\": \"Where did Narendra Modi born?\",\\n    \"answer\": \"Narendra Modi was born in Vadnagar, Gujarat, India.\",\\n    \"format\": \"XML\"\\n}'"
      ]
     },
     "execution_count": 103,
     "metadata": {},
     "output_type": "execute_result"
    }
   ],
   "source": [
    "j_pipe.invoke(\"where did Narendhar Modi born provide me data in xml format\")"
   ]
  },
  {
   "cell_type": "code",
   "execution_count": 104,
   "id": "b51295ed",
   "metadata": {},
   "outputs": [
    {
     "data": {
      "text/plain": [
       "'\\n\\n\"format_types\": [\\n    {\\n        \"format\": \"XML\",\\n        \"description\": \"Extensible Markup Language. A markup language used for encoding documents in a format that is both human-readable and machine-readable.\"\\n    },\\n    {\\n        \"format\": \"YAML\",\\n        \"description\": \"YAML Ain\\'t Markup Language. A human-readable data serialization language commonly used for configuration files and API descriptions.\"\\n    },\\n    {\\n        \"format\": \"INI\",\\n        \"description\": \"Initialization File. A plain text format used for configuration files on Windows systems.\"\\n    },\\n    {\\n        \"format\": \"YML\",\\n        \"description\": \"YAML Ain\\'t Markup Language. A variant of YAML that uses indentation instead of braces for delimiters.\"\\n    }\\n]'"
      ]
     },
     "execution_count": 104,
     "metadata": {},
     "output_type": "execute_result"
    }
   ],
   "source": [
    "j_pipe.invoke(\"In Artificial Intelligence how many types of format are their like json,csv you need to tell more formats like this\")"
   ]
  },
  {
   "cell_type": "code",
   "execution_count": null,
   "id": "d9f84027",
   "metadata": {},
   "outputs": [],
   "source": [
    "json_prompt1=PromptTemplate.from_template(template=\"Return a JSON object with famousplace and statename key that answers the following question:{question}\")"
   ]
  },
  {
   "cell_type": "code",
   "execution_count": 127,
   "id": "2f9d7030",
   "metadata": {},
   "outputs": [],
   "source": [
    "j_pipe1.invoke(\"what is the famous place in hyderabad\")"
   ]
  },
  {
   "cell_type": "code",
   "execution_count": 128,
   "id": "54d4d4e9",
   "metadata": {},
   "outputs": [],
   "source": [
    "j_pipe1 = json_prompt1|model|json_parser"
   ]
  },
  {
   "cell_type": "code",
   "execution_count": 130,
   "id": "c328c2e2",
   "metadata": {},
   "outputs": [
    {
     "data": {
      "text/plain": [
       "{'famousplace': 'Charminar', 'state name': 'Telangana'}"
      ]
     },
     "execution_count": 130,
     "metadata": {},
     "output_type": "execute_result"
    }
   ],
   "source": [
    "j_pipe1.invoke(\"what is the famous place in hyderabad\")"
   ]
  },
  {
   "cell_type": "code",
   "execution_count": 131,
   "id": "5f9a6255",
   "metadata": {},
   "outputs": [
    {
     "data": {
      "text/plain": [
       "{'famousplace': 'Charminar', 'state name': 'Telangana'}"
      ]
     },
     "execution_count": 131,
     "metadata": {},
     "output_type": "execute_result"
    }
   ],
   "source": [
    "j_pipe1.invoke(\"what is the famous place in hyderabad provide me in json format\")"
   ]
  },
  {
   "cell_type": "code",
   "execution_count": 133,
   "id": "193e2653",
   "metadata": {},
   "outputs": [
    {
     "data": {
      "text/plain": [
       "{'famousplace': 'Lalbagh Botanical Garden', 'state name': 'Karnataka'}"
      ]
     },
     "execution_count": 133,
     "metadata": {},
     "output_type": "execute_result"
    }
   ],
   "source": [
    "j_pipe1.invoke(\"what is the famous place in Bangalore\")"
   ]
  },
  {
   "cell_type": "code",
   "execution_count": 135,
   "id": "9ee97ea1",
   "metadata": {},
   "outputs": [
    {
     "data": {
      "text/plain": [
       "{'famousplace': 'Gateway of India', 'state name': 'Maharashtra'}"
      ]
     },
     "execution_count": 135,
     "metadata": {},
     "output_type": "execute_result"
    }
   ],
   "source": [
    "j_pipe1.invoke(\"what is the famous place in Mumbai\")"
   ]
  },
  {
   "cell_type": "code",
   "execution_count": 136,
   "id": "3a31c06b",
   "metadata": {},
   "outputs": [
    {
     "data": {
      "text/plain": [
       "{'famousplace': 'Buckingham Palace', 'state name': 'London'}"
      ]
     },
     "execution_count": 136,
     "metadata": {},
     "output_type": "execute_result"
    }
   ],
   "source": [
    "j_pipe1.invoke(\"what is the famous place in London\")"
   ]
  },
  {
   "cell_type": "code",
   "execution_count": 137,
   "id": "5ddc3b19",
   "metadata": {},
   "outputs": [
    {
     "data": {
      "text/plain": [
       "{'famousplace': 'Sri Rama Temple', 'state name': 'Telangana'}"
      ]
     },
     "execution_count": 137,
     "metadata": {},
     "output_type": "execute_result"
    }
   ],
   "source": [
    "j_pipe1.invoke(\"what is the famous place in suryapet\")"
   ]
  },
  {
   "cell_type": "code",
   "execution_count": 138,
   "id": "c5a7105d",
   "metadata": {},
   "outputs": [
    {
     "data": {
      "text/plain": [
       "{'famousplace': 'Warangal Fort', 'state name': 'Telangana'}"
      ]
     },
     "execution_count": 138,
     "metadata": {},
     "output_type": "execute_result"
    }
   ],
   "source": [
    "j_pipe1.invoke(\"what is the famous place in warangal\")"
   ]
  },
  {
   "cell_type": "code",
   "execution_count": 151,
   "id": "9f3bf1ba",
   "metadata": {},
   "outputs": [],
   "source": [
    "json_prompt2=PromptTemplate.from_template(template=\"Return a JSON object with popular food and answers key that answers the following question:{question}\")"
   ]
  },
  {
   "cell_type": "code",
   "execution_count": 152,
   "id": "670535c4",
   "metadata": {},
   "outputs": [],
   "source": [
    "j_pipe2 = json_prompt2|model|json_parser"
   ]
  },
  {
   "cell_type": "code",
   "execution_count": 153,
   "id": "1d640575",
   "metadata": {},
   "outputs": [
    {
     "data": {
      "text/plain": [
       "{'popular_food': 'Hyderabadi Biryani',\n",
       " 'answers': ['1. Hyderabadi Biryani',\n",
       "  '2. Haleem',\n",
       "  '3. Qubani Ka Meetha',\n",
       "  '4. Double ka Meetha',\n",
       "  '5. Irani Chai']}"
      ]
     },
     "execution_count": 153,
     "metadata": {},
     "output_type": "execute_result"
    }
   ],
   "source": [
    "j_pipe2.invoke(\"what is the famous food in hyderabad give me five answers\")"
   ]
  },
  {
   "cell_type": "code",
   "execution_count": 154,
   "id": "9f8815f3",
   "metadata": {},
   "outputs": [
    {
     "data": {
      "text/plain": [
       "{'popular food': 'Delhi',\n",
       " 'answers': ['1. Butter Chicken',\n",
       "  '2. Chole Bhature',\n",
       "  '3. Aloo Paratha',\n",
       "  '4. Biryani',\n",
       "  '5. Dahi Bhalla']}"
      ]
     },
     "execution_count": 154,
     "metadata": {},
     "output_type": "execute_result"
    }
   ],
   "source": [
    "j_pipe2.invoke(\"what is the famous food in Delhi give me five answers\")"
   ]
  },
  {
   "cell_type": "code",
   "execution_count": 155,
   "id": "cde451c5",
   "metadata": {},
   "outputs": [
    {
     "data": {
      "text/plain": [
       "{'popular food': 'UK',\n",
       " 'answers': ['Fish and chips',\n",
       "  'Roast dinner',\n",
       "  'Full English breakfast',\n",
       "  \"Shepherd's pie\",\n",
       "  'Bangers and mash']}"
      ]
     },
     "execution_count": 155,
     "metadata": {},
     "output_type": "execute_result"
    }
   ],
   "source": [
    "j_pipe2.invoke(\"what is the famous food in UK give me five answers\")"
   ]
  },
  {
   "cell_type": "code",
   "execution_count": 156,
   "id": "4b86c7ec",
   "metadata": {},
   "outputs": [
    {
     "data": {
      "text/plain": [
       "{'popular food': 'sweets',\n",
       " 'answers': ['Gulab Jamun',\n",
       "  'Ladoo',\n",
       "  'Falooda',\n",
       "  'Qubani Ka Meetha',\n",
       "  'Double ka Meetha']}"
      ]
     },
     "execution_count": 156,
     "metadata": {},
     "output_type": "execute_result"
    }
   ],
   "source": [
    "j_pipe2.invoke(\"what is the famous sweets in hyderabad give me five answers\")"
   ]
  },
  {
   "cell_type": "code",
   "execution_count": 157,
   "id": "85709da1",
   "metadata": {},
   "outputs": [
    {
     "data": {
      "text/plain": [
       "{'popular_food': 'Maharashtra is known for its diverse and delicious cuisine. Some of the famous foods in Maharashtra are:',\n",
       " 'answers': ['1. Vada Pav: A popular street food made with a potato fritter sandwiched between a bun and served with chutney.',\n",
       "  '2. Misal Pav: A spicy curry made with sprouted moth beans and served with pav (bread).',\n",
       "  '3. Puran Poli: A sweet flatbread made with lentils, jaggery, and flour.',\n",
       "  '4. Sabudana Khichdi: A dish made with soaked sago pearls, peanuts, and spices, often eaten during fasting.',\n",
       "  '5. Pav Bhaji: A dish made with a spicy mix of vegetables, served with buttered pav (bread).']}"
      ]
     },
     "execution_count": 157,
     "metadata": {},
     "output_type": "execute_result"
    }
   ],
   "source": [
    "j_pipe2.invoke(\"what is the famous food in maharastra give me five answers\")"
   ]
  },
  {
   "cell_type": "code",
   "execution_count": 158,
   "id": "e8ad542a",
   "metadata": {},
   "outputs": [
    {
     "data": {
      "text/plain": [
       "{'popular_food': ['Hoppers',\n",
       "  'Kottu Roti',\n",
       "  'Sri Lankan Curry',\n",
       "  'Lamprais',\n",
       "  'String Hoppers'],\n",
       " 'answers': 'Hoppers, Kottu Roti, Sri Lankan Curry, Lamprais, String Hoppers'}"
      ]
     },
     "execution_count": 158,
     "metadata": {},
     "output_type": "execute_result"
    }
   ],
   "source": [
    "j_pipe2.invoke(\"what is the famous food in srilanka give me five answers\")"
   ]
  },
  {
   "cell_type": "code",
   "execution_count": 159,
   "id": "5139bfd4",
   "metadata": {},
   "outputs": [
    {
     "data": {
      "text/plain": [
       "{'popular_food': 'Dwaraka',\n",
       " 'answers': ['1. Masala Dosa',\n",
       "  '2. Idli Sambhar',\n",
       "  '3. Pani Puri',\n",
       "  '4. Pav Bhaji',\n",
       "  '5. Dhokla']}"
      ]
     },
     "execution_count": 159,
     "metadata": {},
     "output_type": "execute_result"
    }
   ],
   "source": [
    "j_pipe2.invoke(\"what is the famous food in dwaraka give me five answers\")"
   ]
  },
  {
   "cell_type": "code",
   "execution_count": 189,
   "id": "745db06c",
   "metadata": {},
   "outputs": [],
   "source": [
    "json_prompt3=PromptTemplate.from_template(template=\"Return a JSON object with popular acters in this movie and movie director name key that answers the following question:{question}\")"
   ]
  },
  {
   "cell_type": "code",
   "execution_count": 190,
   "id": "f5d0477d",
   "metadata": {},
   "outputs": [],
   "source": [
    "j_pipe3 = json_prompt3|model|json_parser"
   ]
  },
  {
   "cell_type": "code",
   "execution_count": 191,
   "id": "84559b4f",
   "metadata": {},
   "outputs": [
    {
     "data": {
      "text/plain": [
       "{'Director Name': 'Teja',\n",
       " 'Heroine Name': 'Kajal Aggarwal',\n",
       " 'Popular Actors': ['Bellamkonda Sreenivas', 'Sonu Sood', 'Mannara Chopra']}"
      ]
     },
     "execution_count": 191,
     "metadata": {},
     "output_type": "execute_result"
    }
   ],
   "source": [
    "j_pipe3.invoke(\"can you tell me about SitaRamam telugu movie director and  heroin  name in telugu\")"
   ]
  },
  {
   "cell_type": "code",
   "execution_count": 192,
   "id": "3a635f0b",
   "metadata": {},
   "outputs": [
    {
     "data": {
      "text/plain": [
       "{'popular actors': ['Laia Costa', 'Mark Ryder', 'Sonia Almarcha'],\n",
       " 'director': 'Javier Chavarria'}"
      ]
     },
     "execution_count": 192,
     "metadata": {},
     "output_type": "execute_result"
    }
   ],
   "source": [
    "j_pipe3.invoke(\"can you tell me about Darling movie popular actors and director\")"
   ]
  },
  {
   "cell_type": "code",
   "execution_count": 175,
   "id": "8c957b38",
   "metadata": {},
   "outputs": [
    {
     "data": {
      "text/plain": [
       "{'director': 'Teja',\n",
       " 'actors': ['Kajal Aggarwal',\n",
       "  'Bellamkonda Sreenivas',\n",
       "  'Sonu Sood',\n",
       "  'Mannara Chopra']}"
      ]
     },
     "execution_count": 175,
     "metadata": {},
     "output_type": "execute_result"
    }
   ],
   "source": [
    "j_pipe3.invoke(\"can you tell me Aabout sita ramam movie popular actors and director\")"
   ]
  },
  {
   "cell_type": "code",
   "execution_count": 195,
   "id": "c1862cb9",
   "metadata": {},
   "outputs": [],
   "source": [
    "sp=j_pipe1.invoke(\"where did M.K.Gandhi born provide me in json format\")"
   ]
  },
  {
   "cell_type": "code",
   "execution_count": 196,
   "id": "ea298e5e",
   "metadata": {},
   "outputs": [
    {
     "data": {
      "text/plain": [
       "dict"
      ]
     },
     "execution_count": 196,
     "metadata": {},
     "output_type": "execute_result"
    }
   ],
   "source": [
    "type(sp)"
   ]
  },
  {
   "cell_type": "code",
   "execution_count": 197,
   "id": "909a59ba",
   "metadata": {},
   "outputs": [
    {
     "data": {
      "text/plain": [
       "{'famousplace': 'Porbandar', 'state name': 'Gujarat'}"
      ]
     },
     "execution_count": 197,
     "metadata": {},
     "output_type": "execute_result"
    }
   ],
   "source": [
    "sp"
   ]
  },
  {
   "cell_type": "code",
   "execution_count": 200,
   "id": "d02c11a1",
   "metadata": {},
   "outputs": [],
   "source": [
    "from langchain.output_parsers import CommaSeparatedListOutputParser"
   ]
  },
  {
   "cell_type": "code",
   "execution_count": 201,
   "id": "0b8853da",
   "metadata": {},
   "outputs": [],
   "source": [
    "output_parser = CommaSeparatedListOutputParser()"
   ]
  },
  {
   "cell_type": "code",
   "execution_count": 202,
   "id": "a724f1cb",
   "metadata": {},
   "outputs": [],
   "source": [
    "format_instructions = output_parser.get_format_instructions()"
   ]
  },
  {
   "cell_type": "code",
   "execution_count": 203,
   "id": "6e85d8cd",
   "metadata": {},
   "outputs": [],
   "source": [
    "prompt = PromptTemplate(\n",
    "template=\"List five {subject}.\\n{format_instructions}\",\n",
    "input_variables=[\"subject\"],\n",
    "partial_variables={\"format_instructions\": format_instructions}\n",
    ")"
   ]
  },
  {
   "cell_type": "code",
   "execution_count": 204,
   "id": "8255185c",
   "metadata": {},
   "outputs": [],
   "source": [
    "query = \"Indian Premier League Teams\""
   ]
  },
  {
   "cell_type": "code",
   "execution_count": 205,
   "id": "4643bbba",
   "metadata": {},
   "outputs": [
    {
     "name": "stderr",
     "output_type": "stream",
     "text": [
      "C:\\Users\\padma\\AppData\\Local\\Temp\\ipykernel_18412\\3743035748.py:1: LangChainDeprecationWarning: The method `BaseLLM.__call__` was deprecated in langchain-core 0.1.7 and will be removed in 1.0. Use :meth:`~invoke` instead.\n",
      "  output = model(prompt.format(subject=query))\n"
     ]
    }
   ],
   "source": [
    "output = model(prompt.format(subject=query))"
   ]
  },
  {
   "cell_type": "code",
   "execution_count": 206,
   "id": "cea96f30",
   "metadata": {},
   "outputs": [
    {
     "data": {
      "text/plain": [
       "'\\n\\n1. Mumbai Indians\\n2. Chennai Super Kings\\n3. Kolkata Knight Riders\\n4. Royal Challengers Bangalore\\n5. Delhi Capitals'"
      ]
     },
     "execution_count": 206,
     "metadata": {},
     "output_type": "execute_result"
    }
   ],
   "source": [
    "output"
   ]
  },
  {
   "cell_type": "code",
   "execution_count": 207,
   "id": "39a236ea",
   "metadata": {},
   "outputs": [],
   "source": [
    "parsed_result = output_parser.parse(output)\n"
   ]
  },
  {
   "cell_type": "code",
   "execution_count": 208,
   "id": "08bff719",
   "metadata": {},
   "outputs": [
    {
     "data": {
      "text/plain": [
       "['1. Mumbai Indians',\n",
       " '2. Chennai Super Kings',\n",
       " '3. Kolkata Knight Riders',\n",
       " '4. Royal Challengers Bangalore',\n",
       " '5. Delhi Capitals']"
      ]
     },
     "execution_count": 208,
     "metadata": {},
     "output_type": "execute_result"
    }
   ],
   "source": [
    "parsed_result"
   ]
  },
  {
   "cell_type": "code",
   "execution_count": 209,
   "id": "e5f2c585",
   "metadata": {},
   "outputs": [],
   "source": [
    "query = \"Top 5 populated cities in India\""
   ]
  },
  {
   "cell_type": "code",
   "execution_count": 210,
   "id": "a405ac3d",
   "metadata": {},
   "outputs": [],
   "source": [
    "output = model(prompt.format(subject=query))"
   ]
  },
  {
   "cell_type": "code",
   "execution_count": 211,
   "id": "dad8f4b8",
   "metadata": {},
   "outputs": [
    {
     "data": {
      "text/plain": [
       "'\\n\\n1. Mumbai, Delhi, Bangalore, Hyderabad, Ahmedabad'"
      ]
     },
     "execution_count": 211,
     "metadata": {},
     "output_type": "execute_result"
    }
   ],
   "source": [
    "output"
   ]
  },
  {
   "cell_type": "code",
   "execution_count": 212,
   "id": "a05175e5",
   "metadata": {},
   "outputs": [],
   "source": [
    "parsed_result = output_parser.parse(output)"
   ]
  },
  {
   "cell_type": "code",
   "execution_count": 213,
   "id": "1478bf45",
   "metadata": {},
   "outputs": [
    {
     "data": {
      "text/plain": [
       "['1. Mumbai', 'Delhi', 'Bangalore', 'Hyderabad', 'Ahmedabad']"
      ]
     },
     "execution_count": 213,
     "metadata": {},
     "output_type": "execute_result"
    }
   ],
   "source": [
    "parsed_result"
   ]
  },
  {
   "cell_type": "code",
   "execution_count": 214,
   "id": "44b752b7",
   "metadata": {},
   "outputs": [],
   "source": [
    "query = \"Top 5 populated cities in world\""
   ]
  },
  {
   "cell_type": "code",
   "execution_count": 215,
   "id": "3532f388",
   "metadata": {},
   "outputs": [],
   "source": [
    "output = model(prompt.format(subject=query))"
   ]
  },
  {
   "cell_type": "code",
   "execution_count": 216,
   "id": "59949f36",
   "metadata": {},
   "outputs": [
    {
     "data": {
      "text/plain": [
       "'\\n\\n1. Tokyo, Japan\\n2. Delhi, India\\n3. Shanghai, China\\n4. Sao Paulo, Brazil\\n5. Mexico City, Mexico'"
      ]
     },
     "execution_count": 216,
     "metadata": {},
     "output_type": "execute_result"
    }
   ],
   "source": [
    "output"
   ]
  },
  {
   "cell_type": "code",
   "execution_count": 217,
   "id": "ec8fc07f",
   "metadata": {},
   "outputs": [],
   "source": [
    "parsed_result = output_parser.parse(output)"
   ]
  },
  {
   "cell_type": "code",
   "execution_count": 218,
   "id": "32b211d0",
   "metadata": {},
   "outputs": [
    {
     "data": {
      "text/plain": [
       "['1. Tokyo',\n",
       " 'Japan',\n",
       " '2. Delhi',\n",
       " 'India',\n",
       " '3. Shanghai',\n",
       " 'China',\n",
       " '4. Sao Paulo',\n",
       " 'Brazil',\n",
       " '5. Mexico City',\n",
       " 'Mexico']"
      ]
     },
     "execution_count": 218,
     "metadata": {},
     "output_type": "execute_result"
    }
   ],
   "source": [
    "parsed_result"
   ]
  },
  {
   "cell_type": "code",
   "execution_count": 219,
   "id": "59aa5b86",
   "metadata": {},
   "outputs": [],
   "source": [
    "query = \"Top 5 most tourisum places in india\""
   ]
  },
  {
   "cell_type": "code",
   "execution_count": 220,
   "id": "9f94fd3f",
   "metadata": {},
   "outputs": [],
   "source": [
    "output = model(prompt.format(subject=query))"
   ]
  },
  {
   "cell_type": "code",
   "execution_count": 221,
   "id": "62d4e3e2",
   "metadata": {},
   "outputs": [
    {
     "data": {
      "text/plain": [
       "'\\n1. Taj Mahal, Agra\\n2. Goa beaches, Goa\\n3. Golden Temple, Amritsar\\n4. Jaipur, Rajasthan\\n5. Kerala backwaters, Kerala'"
      ]
     },
     "execution_count": 221,
     "metadata": {},
     "output_type": "execute_result"
    }
   ],
   "source": [
    "output"
   ]
  },
  {
   "cell_type": "code",
   "execution_count": 222,
   "id": "3c685048",
   "metadata": {},
   "outputs": [],
   "source": [
    "parsed_result = output_parser.parse(output)"
   ]
  },
  {
   "cell_type": "code",
   "execution_count": 223,
   "id": "81f9c19e",
   "metadata": {},
   "outputs": [
    {
     "data": {
      "text/plain": [
       "['1. Taj Mahal',\n",
       " 'Agra',\n",
       " '2. Goa beaches',\n",
       " 'Goa',\n",
       " '3. Golden Temple',\n",
       " 'Amritsar',\n",
       " '4. Jaipur',\n",
       " 'Rajasthan',\n",
       " '5. Kerala backwaters',\n",
       " 'Kerala']"
      ]
     },
     "execution_count": 223,
     "metadata": {},
     "output_type": "execute_result"
    }
   ],
   "source": [
    "parsed_result"
   ]
  },
  {
   "cell_type": "code",
   "execution_count": 224,
   "id": "210def92",
   "metadata": {},
   "outputs": [],
   "source": [
    "query = \"Top 5 most tourisum places in world\""
   ]
  },
  {
   "cell_type": "code",
   "execution_count": 225,
   "id": "87d94ad1",
   "metadata": {},
   "outputs": [],
   "source": [
    "output = model(prompt.format(subject=query))"
   ]
  },
  {
   "cell_type": "code",
   "execution_count": 226,
   "id": "b14b9a8d",
   "metadata": {},
   "outputs": [
    {
     "data": {
      "text/plain": [
       "'\\n1. Paris, France\\n2. New York City, USA\\n3. Rome, Italy\\n4. London, UK\\n5. Tokyo, Japan'"
      ]
     },
     "execution_count": 226,
     "metadata": {},
     "output_type": "execute_result"
    }
   ],
   "source": [
    "output"
   ]
  },
  {
   "cell_type": "code",
   "execution_count": 227,
   "id": "23f538be",
   "metadata": {},
   "outputs": [],
   "source": [
    "parsed_result = output_parser.parse(output)"
   ]
  },
  {
   "cell_type": "code",
   "execution_count": 228,
   "id": "3b47b5df",
   "metadata": {},
   "outputs": [
    {
     "data": {
      "text/plain": [
       "['1. Paris',\n",
       " 'France',\n",
       " '2. New York City',\n",
       " 'USA',\n",
       " '3. Rome',\n",
       " 'Italy',\n",
       " '4. London',\n",
       " 'UK',\n",
       " '5. Tokyo',\n",
       " 'Japan']"
      ]
     },
     "execution_count": 228,
     "metadata": {},
     "output_type": "execute_result"
    }
   ],
   "source": [
    "parsed_result"
   ]
  },
  {
   "cell_type": "code",
   "execution_count": 229,
   "id": "996d8081",
   "metadata": {},
   "outputs": [],
   "source": [
    "query=\"top most snowfall places in india\""
   ]
  },
  {
   "cell_type": "code",
   "execution_count": 230,
   "id": "a02850bb",
   "metadata": {},
   "outputs": [],
   "source": [
    "output = model(prompt.format(subject=query))"
   ]
  },
  {
   "cell_type": "code",
   "execution_count": 231,
   "id": "bc56b16f",
   "metadata": {},
   "outputs": [
    {
     "data": {
      "text/plain": [
       "'\\n\\n1) Gulmarg, Jammu and Kashmir\\n2) Manali, Himachal Pradesh\\n3) Auli, Uttarakhand\\n4) Shimla, Himachal Pradesh\\n5) Sonamarg, Jammu and Kashmir'"
      ]
     },
     "execution_count": 231,
     "metadata": {},
     "output_type": "execute_result"
    }
   ],
   "source": [
    "output"
   ]
  },
  {
   "cell_type": "code",
   "execution_count": 232,
   "id": "e9ae9ce0",
   "metadata": {},
   "outputs": [],
   "source": [
    "parsed_result = output_parser.parse(output)"
   ]
  },
  {
   "cell_type": "code",
   "execution_count": 233,
   "id": "5837008c",
   "metadata": {},
   "outputs": [
    {
     "data": {
      "text/plain": [
       "['1) Gulmarg',\n",
       " 'Jammu and Kashmir',\n",
       " '2) Manali',\n",
       " 'Himachal Pradesh',\n",
       " '3) Auli',\n",
       " 'Uttarakhand',\n",
       " '4) Shimla',\n",
       " 'Himachal Pradesh',\n",
       " '5) Sonamarg',\n",
       " 'Jammu and Kashmir']"
      ]
     },
     "execution_count": 233,
     "metadata": {},
     "output_type": "execute_result"
    }
   ],
   "source": [
    "parsed_result"
   ]
  },
  {
   "cell_type": "code",
   "execution_count": null,
   "id": "62afbe0c",
   "metadata": {},
   "outputs": [],
   "source": []
  }
 ],
 "metadata": {
  "kernelspec": {
   "display_name": "Python 3 (ipykernel)",
   "language": "python",
   "name": "python3"
  },
  "language_info": {
   "codemirror_mode": {
    "name": "ipython",
    "version": 3
   },
   "file_extension": ".py",
   "mimetype": "text/x-python",
   "name": "python",
   "nbconvert_exporter": "python",
   "pygments_lexer": "ipython3",
   "version": "3.9.13"
  }
 },
 "nbformat": 4,
 "nbformat_minor": 5
}
