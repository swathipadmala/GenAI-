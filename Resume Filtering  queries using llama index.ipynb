{
 "cells": [
  {
   "cell_type": "markdown",
   "id": "4414e18a",
   "metadata": {},
   "source": [
    "# Save key in environmental variable"
   ]
  },
  {
   "cell_type": "code",
   "execution_count": 1,
   "id": "e6c43cda",
   "metadata": {},
   "outputs": [],
   "source": [
    "\n",
    "import os\n",
    "#os.environ[\"OPENAI_API_KEY\"]=\"\"\n",
    "os.environ[\"OPENAI_API_KEY\"]=\"your_api_key\""
   ]
  },
  {
   "cell_type": "markdown",
   "id": "10477e17",
   "metadata": {},
   "source": [
    "# load documents"
   ]
  },
  {
   "cell_type": "code",
   "execution_count": 2,
   "id": "b4e443e3",
   "metadata": {},
   "outputs": [],
   "source": [
    "\n",
    "from llama_index.core import SimpleDirectoryReader"
   ]
  },
  {
   "cell_type": "markdown",
   "id": "31c60012",
   "metadata": {},
   "source": [
    "# Reading the dataset"
   ]
  },
  {
   "cell_type": "code",
   "execution_count": 7,
   "id": "77ac98f3",
   "metadata": {},
   "outputs": [],
   "source": [
    "\n",
    "documents = SimpleDirectoryReader(\"C:\\\\Users\\\\padma\\\\Downloads\\\\Task_for_internship\\\\resumes\",recursive=True).load_data()"
   ]
  },
  {
   "cell_type": "markdown",
   "id": "a19db2e1",
   "metadata": {},
   "source": [
    "# Create a vector index"
   ]
  },
  {
   "cell_type": "code",
   "execution_count": 8,
   "id": "54e0c379",
   "metadata": {},
   "outputs": [],
   "source": [
    "\n",
    "from llama_index.core import VectorStoreIndex"
   ]
  },
  {
   "cell_type": "code",
   "execution_count": 9,
   "id": "ef8f2c9c",
   "metadata": {},
   "outputs": [],
   "source": [
    "index = VectorStoreIndex.from_documents(documents)"
   ]
  },
  {
   "cell_type": "markdown",
   "id": "277044bf",
   "metadata": {},
   "source": [
    "# create an engine"
   ]
  },
  {
   "cell_type": "code",
   "execution_count": 10,
   "id": "c410f363",
   "metadata": {},
   "outputs": [],
   "source": [
    "\n",
    "query_engine = index.as_query_engine(similarity_top_k=25)"
   ]
  },
  {
   "cell_type": "markdown",
   "id": "7794335a",
   "metadata": {},
   "source": [
    "# Form a query and ask a query"
   ]
  },
  {
   "cell_type": "code",
   "execution_count": 12,
   "id": "7afac8ac",
   "metadata": {},
   "outputs": [],
   "source": [
    "\n",
    "response = query_engine.query(\"provide me names all people in this above resumes\")"
   ]
  },
  {
   "cell_type": "code",
   "execution_count": 13,
   "id": "41215355",
   "metadata": {},
   "outputs": [
    {
     "data": {
      "text/plain": [
       "'John, Sara, Zoe, Amit, Priya'"
      ]
     },
     "execution_count": 13,
     "metadata": {},
     "output_type": "execute_result"
    }
   ],
   "source": [
    "response.response"
   ]
  },
  {
   "cell_type": "code",
   "execution_count": 14,
   "id": "0d0c3fb2",
   "metadata": {},
   "outputs": [],
   "source": [
    "response = query_engine.query(\"as a HR analyst, provide me technical skills list Vinay is having\")"
   ]
  },
  {
   "cell_type": "code",
   "execution_count": 15,
   "id": "2c884933",
   "metadata": {},
   "outputs": [
    {
     "data": {
      "text/plain": [
       "\"Vinay's technical skills list includes Python, R, Machine Learning, and SQL.\""
      ]
     },
     "execution_count": 15,
     "metadata": {},
     "output_type": "execute_result"
    }
   ],
   "source": [
    "response.response"
   ]
  },
  {
   "cell_type": "code",
   "execution_count": 16,
   "id": "3b30e70b",
   "metadata": {},
   "outputs": [
    {
     "data": {
      "text/plain": [
       "'The roles mentioned in the context are Marketing Manager, HR Manager, Sales Executive, Web Developer, and Data Scientist.'"
      ]
     },
     "execution_count": 16,
     "metadata": {},
     "output_type": "execute_result"
    }
   ],
   "source": [
    "response = query_engine.query(\"can you give me a what are the roles are their\")\n",
    "response.response"
   ]
  },
  {
   "cell_type": "code",
   "execution_count": 17,
   "id": "68d64fc8",
   "metadata": {},
   "outputs": [
    {
     "data": {
      "text/plain": [
       "'The permanent address for John is not provided in the context information.'"
      ]
     },
     "execution_count": 17,
     "metadata": {},
     "output_type": "execute_result"
    }
   ],
   "source": [
    "response = query_engine.query(\"provide me permanent address for the john\")\n",
    "response.response"
   ]
  },
  {
   "cell_type": "code",
   "execution_count": 18,
   "id": "e7023a99",
   "metadata": {},
   "outputs": [
    {
     "data": {
      "text/plain": [
       "'Sara, the Marketing Manager, is the one with the highest experience among the individuals mentioned.'"
      ]
     },
     "execution_count": 18,
     "metadata": {},
     "output_type": "execute_result"
    }
   ],
   "source": [
    "response = query_engine.query(\"In this who is having high experience\")\n",
    "response.response"
   ]
  },
  {
   "cell_type": "code",
   "execution_count": 19,
   "id": "0e9dffe2",
   "metadata": {},
   "outputs": [
    {
     "data": {
      "text/plain": [
       "'Name: John\\nRole: HR Manager\\nContact: 7778889999\\nEmail: john@example.com'"
      ]
     },
     "execution_count": 19,
     "metadata": {},
     "output_type": "execute_result"
    }
   ],
   "source": [
    "response = query_engine.query(\"Can you give me personal details of john\")\n",
    "response.response"
   ]
  },
  {
   "cell_type": "code",
   "execution_count": 20,
   "id": "30dda753",
   "metadata": {},
   "outputs": [
    {
     "data": {
      "text/plain": [
       "'8887776666, 7778889999, 5554443333, 4445556666, 1112223333'"
      ]
     },
     "execution_count": 20,
     "metadata": {},
     "output_type": "execute_result"
    }
   ],
   "source": [
    "response = query_engine.query(\"can you give me all the people for phone numbers\")\n",
    "response.response"
   ]
  },
  {
   "cell_type": "code",
   "execution_count": 21,
   "id": "b9f24c8f",
   "metadata": {},
   "outputs": [
    {
     "data": {
      "text/plain": [
       "'I cannot provide the college names as the context information does not mention any college names.'"
      ]
     },
     "execution_count": 21,
     "metadata": {},
     "output_type": "execute_result"
    }
   ],
   "source": [
    "response = query_engine.query(\"can you give me all the college names\")\n",
    "response.response"
   ]
  },
  {
   "cell_type": "code",
   "execution_count": null,
   "id": "36db4089",
   "metadata": {},
   "outputs": [],
   "source": []
  }
 ],
 "metadata": {
  "kernelspec": {
   "display_name": "Python 3 (ipykernel)",
   "language": "python",
   "name": "python3"
  },
  "language_info": {
   "codemirror_mode": {
    "name": "ipython",
    "version": 3
   },
   "file_extension": ".py",
   "mimetype": "text/x-python",
   "name": "python",
   "nbconvert_exporter": "python",
   "pygments_lexer": "ipython3",
   "version": "3.9.13"
  }
 },
 "nbformat": 4,
 "nbformat_minor": 5
}
