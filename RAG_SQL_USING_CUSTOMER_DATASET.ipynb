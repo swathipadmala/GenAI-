{
 "cells": [
  {
   "cell_type": "markdown",
   "id": "297c8bbe",
   "metadata": {},
   "source": [
    "# import all the necessary libraries"
   ]
  },
  {
   "cell_type": "code",
   "execution_count": 1,
   "id": "0456ad4d",
   "metadata": {},
   "outputs": [],
   "source": [
    "from langchain.utilities import SQLDatabase\n",
    "from langchain.llms import OpenAI\n",
    "from langchain_experimental.sql import SQLDatabaseChain\n",
    "from langchain.prompts import PromptTemplate\n",
    "from langchain.prompts.chat import HumanMessagePromptTemplate\n",
    "from langchain.chat_models import ChatOpenAI\n",
    "from langchain.schema import HumanMessage, SystemMessage"
   ]
  },
  {
   "cell_type": "markdown",
   "id": "170107ea",
   "metadata": {},
   "source": [
    "# save the open ai key in environmental variable"
   ]
  },
  {
   "cell_type": "code",
   "execution_count": 2,
   "id": "9b6010ea",
   "metadata": {},
   "outputs": [
    {
     "name": "stderr",
     "output_type": "stream",
     "text": [
      "C:\\Users\\padma\\AppData\\Local\\Temp\\ipykernel_18840\\1703113971.py:2: LangChainDeprecationWarning: The class `ChatOpenAI` was deprecated in LangChain 0.0.10 and will be removed in 1.0. An updated version of the class exists in the :class:`~langchain-openai package and should be used instead. To use it run `pip install -U :class:`~langchain-openai` and import as `from :class:`~langchain_openai import ChatOpenAI``.\n",
      "  llm = ChatOpenAI(temperature=0, openai_api_key=OPENAI_API_KEY)\n"
     ]
    }
   ],
   "source": [
    "OPENAI_API_KEY = \"your_api_key\"\n",
    "llm = ChatOpenAI(temperature=0, openai_api_key=OPENAI_API_KEY)"
   ]
  },
  {
   "cell_type": "markdown",
   "id": "692e4b20",
   "metadata": {},
   "source": [
    "# Database setup"
   ]
  },
  {
   "cell_type": "code",
   "execution_count": 3,
   "id": "8ba53ea3",
   "metadata": {},
   "outputs": [],
   "source": [
    "host = 'localhost'\n",
    "port = '3306'\n",
    "username = 'root'\n",
    "#password = ''\n",
    "database_schema = 'fresher'\n",
    "mysql_uri = f\"mysql+pymysql://{username}@{host}:{port}/{database_schema}\"\n",
    "#mysql_uri = f\"mysql+pymysql://{username:password}@{host}:{port}/{database_schema}\"\n",
    "db = SQLDatabase.from_uri(mysql_uri, include_tables=['p6_uk_bank_customers'],sample_rows_in_table_info=2)\n",
    "db_chain = SQLDatabaseChain.from_llm(llm, db, verbose=True)"
   ]
  },
  {
   "cell_type": "code",
   "execution_count": 4,
   "id": "8be8485f",
   "metadata": {},
   "outputs": [],
   "source": [
    "def retrieve_from_db(query: str) -> str:\n",
    "    db_context = db_chain(query)\n",
    "    db_context = db_context['result'].strip()\n",
    "    return db_context"
   ]
  },
  {
   "cell_type": "code",
   "execution_count": 7,
   "id": "73f5b32f",
   "metadata": {},
   "outputs": [],
   "source": [
    "def generate(query: str) -> str:\n",
    "    db_context = retrieve_from_db(query)\n",
    "    \n",
    "    system_message = \"\"\"You are a database expert specializing in customer segmentation, balance prediction, or understanding customer demographics.\n",
    "        your task is to answer users' questions by providing relevant information from a database of training data.\n",
    "        Tha database contaims the following information for each individual:\n",
    "        -Customer ID: A unique identifier for each customer(discrete)\n",
    "        -Name: The first name of the customer(categorical)\n",
    "        -Surname: The last name of the customer(categorical)\n",
    "        -Gender: The gender of the customer (discrete) (Male/Female)\n",
    "        -Age: The age of the customer(discrete)\n",
    "        -Region: The region where the customer resides(categorical)\n",
    "        -Job Classification: The type of job ( White Collar, Blue Collar)(categorical)\n",
    "        -Date Joined: The date the customer joined the bank(categorical)\n",
    "        -Balance: The current balance in the customer's account(continous)\n",
    "\n",
    "        Example:\n",
    "\n",
    "        Input:\n",
    "        Which region has the most customers?\n",
    "\n",
    "        context:\n",
    "        Analyzing customer distribution across regions helps the bank identify its strongest customer base geographically.\n",
    "        \n",
    "        Output:\n",
    "        The region with the most customers is England, with 2,159 customers\n",
    "        \"\"\"\n",
    "    human_qry_template = HumanMessagePromptTemplate.from_template(\n",
    "        \"\"\"Input:\n",
    "        {human_input}\n",
    "        \n",
    "        Context:\n",
    "        {db_context}\n",
    "        \n",
    "        Output:\n",
    "        \"\"\"\n",
    "    )\n",
    "    messages = [\n",
    "      SystemMessage(content=system_message),\n",
    "      human_qry_template.format(human_input=query, db_context=db_context)\n",
    "    ]\n",
    "    response = llm(messages).content\n",
    "    return response"
   ]
  },
  {
   "cell_type": "markdown",
   "id": "fa1ee718",
   "metadata": {},
   "source": [
    "# ask queries"
   ]
  },
  {
   "cell_type": "code",
   "execution_count": 8,
   "id": "90748292",
   "metadata": {},
   "outputs": [
    {
     "name": "stdout",
     "output_type": "stream",
     "text": [
      "\n",
      "\n",
      "\u001b[1m> Entering new SQLDatabaseChain chain...\u001b[0m\n",
      "Provide names of all people from England\n",
      "SQLQuery:\u001b[32;1m\u001b[1;3mSELECT `Name`, `Surname` \n",
      "FROM p6_uk_bank_customers \n",
      "WHERE `Region` = 'England'\n",
      "LIMIT 5;\u001b[0m\n",
      "SQLResult: \u001b[33;1m\u001b[1;3m[('Simon', 'Walsh'), ('Liam', 'Brown'), ('Deirdre', 'Pullman'), ('Dorothy', 'Thomson'), ('Dominic', 'Parr')]\u001b[0m\n",
      "Answer:\u001b[32;1m\u001b[1;3mSimon Walsh, Liam Brown, Deirdre Pullman, Dorothy Thomson, Dominic Parr\u001b[0m\n",
      "\u001b[1m> Finished chain.\u001b[0m\n"
     ]
    },
    {
     "name": "stderr",
     "output_type": "stream",
     "text": [
      "C:\\Users\\padma\\AppData\\Local\\Temp\\ipykernel_18840\\2179357571.py:42: LangChainDeprecationWarning: The method `BaseChatModel.__call__` was deprecated in langchain-core 0.1.7 and will be removed in 1.0. Use :meth:`~invoke` instead.\n",
      "  response = llm(messages).content\n"
     ]
    },
    {
     "data": {
      "text/plain": [
       "'The names of all people from England are Simon Walsh, Liam Brown, Deirdre Pullman, Dorothy Thomson, and Dominic Parr.'"
      ]
     },
     "execution_count": 8,
     "metadata": {},
     "output_type": "execute_result"
    }
   ],
   "source": [
    "generate(\"Provide names of all people from England\")"
   ]
  },
  {
   "cell_type": "code",
   "execution_count": 9,
   "id": "b6e6deb5",
   "metadata": {},
   "outputs": [
    {
     "name": "stdout",
     "output_type": "stream",
     "text": [
      "\n",
      "\n",
      "\u001b[1m> Entering new SQLDatabaseChain chain...\u001b[0m\n",
      "Provide count of all Male people\n",
      "SQLQuery:\u001b[32;1m\u001b[1;3mSELECT COUNT(`Customer ID`) AS Male_Count\n",
      "FROM p6_uk_bank_customers\n",
      "WHERE Gender = 'Male';\u001b[0m\n",
      "SQLResult: \u001b[33;1m\u001b[1;3m[(2165,)]\u001b[0m\n",
      "Answer:\u001b[32;1m\u001b[1;3mThere are 2165 Male people in the database.\u001b[0m\n",
      "\u001b[1m> Finished chain.\u001b[0m\n"
     ]
    },
    {
     "data": {
      "text/plain": [
       "'There are 2,165 Male customers in the database.'"
      ]
     },
     "execution_count": 9,
     "metadata": {},
     "output_type": "execute_result"
    }
   ],
   "source": [
    "generate(\"Provide count of all Male people\")"
   ]
  },
  {
   "cell_type": "code",
   "execution_count": 10,
   "id": "b0a9075f",
   "metadata": {},
   "outputs": [
    {
     "name": "stdout",
     "output_type": "stream",
     "text": [
      "\n",
      "\n",
      "\u001b[1m> Entering new SQLDatabaseChain chain...\u001b[0m\n",
      "Provide count of all female who are from Wales\n",
      "SQLQuery:\u001b[32;1m\u001b[1;3mSELECT COUNT(`Customer ID`) AS `FemaleCount`\n",
      "FROM p6_uk_bank_customers\n",
      "WHERE Gender = 'Female' AND Region = 'Wales';\u001b[0m\n",
      "SQLResult: \u001b[33;1m\u001b[1;3m[(282,)]\u001b[0m\n",
      "Answer:\u001b[32;1m\u001b[1;3mThere are 282 female customers from Wales.\u001b[0m\n",
      "\u001b[1m> Finished chain.\u001b[0m\n"
     ]
    },
    {
     "data": {
      "text/plain": [
       "'There are 282 female customers from Wales.'"
      ]
     },
     "execution_count": 10,
     "metadata": {},
     "output_type": "execute_result"
    }
   ],
   "source": [
    "generate(\"Provide count of all female who are from Wales\")"
   ]
  },
  {
   "cell_type": "code",
   "execution_count": 19,
   "id": "9e087b58",
   "metadata": {},
   "outputs": [
    {
     "name": "stdout",
     "output_type": "stream",
     "text": [
      "\n",
      "\n",
      "\u001b[1m> Entering new SQLDatabaseChain chain...\u001b[0m\n",
      "Provide names of all people who are white color and age above 35\n",
      "SQLQuery:\u001b[32;1m\u001b[1;3mSELECT `Name`\n",
      "FROM p6_uk_bank_customers\n",
      "WHERE `Job Classification` = 'White Collar' AND `Age` > 35\n",
      "LIMIT 5;\u001b[0m\n",
      "SQLResult: \u001b[33;1m\u001b[1;3m[('Liam',), ('Dominic',), ('Dominic',), ('Benjamin',), ('Nicholas',)]\u001b[0m\n",
      "Answer:\u001b[32;1m\u001b[1;3mLiam, Dominic, Benjamin, Nicholas\u001b[0m\n",
      "\u001b[1m> Finished chain.\u001b[0m\n"
     ]
    },
    {
     "data": {
      "text/plain": [
       "'The names of people who are white collar and above the age of 35 are Dominic and Nicholas.'"
      ]
     },
     "execution_count": 19,
     "metadata": {},
     "output_type": "execute_result"
    }
   ],
   "source": [
    "generate(\"Provide names of all people who are white color and age above 35\")"
   ]
  },
  {
   "cell_type": "code",
   "execution_count": 11,
   "id": "5428bb77",
   "metadata": {},
   "outputs": [
    {
     "name": "stdout",
     "output_type": "stream",
     "text": [
      "\n",
      "\n",
      "\u001b[1m> Entering new SQLDatabaseChain chain...\u001b[0m\n",
      "Provide count of people with White color jobs\n",
      "SQLQuery:\u001b[32;1m\u001b[1;3mSELECT COUNT(`Customer ID`) AS `White Collar Count`\n",
      "FROM p6_uk_bank_customers\n",
      "WHERE `Job Classification` = 'White Collar';\u001b[0m\n",
      "SQLResult: \u001b[33;1m\u001b[1;3m[(1955,)]\u001b[0m\n",
      "Answer:\u001b[32;1m\u001b[1;3mThere are 1955 people with White Collar jobs.\u001b[0m\n",
      "\u001b[1m> Finished chain.\u001b[0m\n"
     ]
    },
    {
     "data": {
      "text/plain": [
       "'There are 1,955 people with White Collar jobs.'"
      ]
     },
     "execution_count": 11,
     "metadata": {},
     "output_type": "execute_result"
    }
   ],
   "source": [
    "generate(\"Provide count of people with White color jobs\")"
   ]
  },
  {
   "cell_type": "code",
   "execution_count": 12,
   "id": "48b2e796",
   "metadata": {},
   "outputs": [
    {
     "name": "stdout",
     "output_type": "stream",
     "text": [
      "\n",
      "\n",
      "\u001b[1m> Entering new SQLDatabaseChain chain...\u001b[0m\n",
      "Provide count of people with Blue Color jobs\n",
      "SQLQuery:\u001b[32;1m\u001b[1;3mSELECT COUNT(`Customer ID`) AS `Blue Collar Count`\n",
      "FROM p6_uk_bank_customers\n",
      "WHERE `Job Classification` = 'Blue Collar';\u001b[0m\n",
      "SQLResult: \u001b[33;1m\u001b[1;3m[(1049,)]\u001b[0m\n",
      "Answer:\u001b[32;1m\u001b[1;3mBlue Collar Count: 1\u001b[0m\n",
      "\u001b[1m> Finished chain.\u001b[0m\n"
     ]
    },
    {
     "data": {
      "text/plain": [
       "'The count of people with Blue Collar jobs is 1.'"
      ]
     },
     "execution_count": 12,
     "metadata": {},
     "output_type": "execute_result"
    }
   ],
   "source": [
    "generate(\"Provide count of people with Blue Color jobs\")"
   ]
  },
  {
   "cell_type": "code",
   "execution_count": 13,
   "id": "4bae3098",
   "metadata": {},
   "outputs": [
    {
     "name": "stdout",
     "output_type": "stream",
     "text": [
      "\n",
      "\n",
      "\u001b[1m> Entering new SQLDatabaseChain chain...\u001b[0m\n",
      "Provide count of people whose balance is above 5000\n",
      "SQLQuery:\u001b[32;1m\u001b[1;3mSELECT COUNT(`Customer ID`) AS `Count of People`\n",
      "FROM p6_uk_bank_customers\n",
      "WHERE `Balance` > 5000;\u001b[0m\n",
      "SQLResult: \u001b[33;1m\u001b[1;3m[(3690,)]\u001b[0m\n",
      "Answer:\u001b[32;1m\u001b[1;3mThere are 3690 people whose balance is above 5000.\u001b[0m\n",
      "\u001b[1m> Finished chain.\u001b[0m\n"
     ]
    },
    {
     "data": {
      "text/plain": [
       "'The count of people whose balance is above 5000 is 3690.'"
      ]
     },
     "execution_count": 13,
     "metadata": {},
     "output_type": "execute_result"
    }
   ],
   "source": [
    "generate(\"Provide count of people whose balance is above 5000\")"
   ]
  },
  {
   "cell_type": "code",
   "execution_count": 14,
   "id": "46e3b425",
   "metadata": {},
   "outputs": [
    {
     "name": "stdout",
     "output_type": "stream",
     "text": [
      "\n",
      "\n",
      "\u001b[1m> Entering new SQLDatabaseChain chain...\u001b[0m\n",
      "Provide minimum balance and name, job classification\n",
      "SQLQuery:\u001b[32;1m\u001b[1;3mSELECT `Name`, `Job Classification`, MIN(`Balance`) AS `Minimum Balance`\n",
      "FROM p6_uk_bank_customers\n",
      "GROUP BY `Name`, `Job Classification`\n",
      "ORDER BY `Minimum Balance`\n",
      "LIMIT 5;\u001b[0m\n",
      "SQLResult: \u001b[33;1m\u001b[1;3m[('Jane', 'White Collar', Decimal('11.52')), ('Olivia', 'White Collar', Decimal('21.03')), ('Warren', 'Blue Collar', Decimal('69.01')), ('Megan', 'Blue Collar', Decimal('69.78')), ('Stewart', 'Blue Collar', Decimal('77.46'))]\u001b[0m\n",
      "Answer:\u001b[32;1m\u001b[1;3mThe customers with the minimum balance and their corresponding job classifications are:\n",
      "1. Jane with a minimum balance of 11.52 in the White Collar job classification\n",
      "2. Olivia with a minimum balance of 21.03 in the White Collar job classification\n",
      "3. Warren with a minimum balance of 69.01 in the Blue Collar job classification\n",
      "4. Megan with a minimum balance of 69.78 in the Blue Collar job classification\n",
      "5. Stewart with a minimum balance of 77.46 in the Blue Collar job classification\u001b[0m\n",
      "\u001b[1m> Finished chain.\u001b[0m\n"
     ]
    },
    {
     "data": {
      "text/plain": [
       "'The customers with the minimum balance and their corresponding job classifications are:\\n1. Jane with a minimum balance of 11.52 in the White Collar job classification\\n2. Olivia with a minimum balance of 21.03 in the White Collar job classification'"
      ]
     },
     "execution_count": 14,
     "metadata": {},
     "output_type": "execute_result"
    }
   ],
   "source": [
    "generate(\"Provide minimum balance and name, job classification\")"
   ]
  },
  {
   "cell_type": "code",
   "execution_count": 15,
   "id": "8bd6a8b6",
   "metadata": {},
   "outputs": [
    {
     "name": "stdout",
     "output_type": "stream",
     "text": [
      "\n",
      "\n",
      "\u001b[1m> Entering new SQLDatabaseChain chain...\u001b[0m\n",
      "provide maximum balance and name of the person\n",
      "SQLQuery:\u001b[32;1m\u001b[1;3mSELECT `Name`, `Balance` \n",
      "FROM p6_uk_bank_customers \n",
      "ORDER BY `Balance` DESC \n",
      "LIMIT 1;\u001b[0m\n",
      "SQLResult: \u001b[33;1m\u001b[1;3m[('Dorothy', Decimal('183467.70'))]\u001b[0m\n",
      "Answer:\u001b[32;1m\u001b[1;3mThe person with the maximum balance is Dorothy with a balance of 183467.70.\u001b[0m\n",
      "\u001b[1m> Finished chain.\u001b[0m\n"
     ]
    },
    {
     "data": {
      "text/plain": [
       "'The person with the maximum balance is Dorothy with a balance of 183467.70.'"
      ]
     },
     "execution_count": 15,
     "metadata": {},
     "output_type": "execute_result"
    }
   ],
   "source": [
    "generate(\"provide maximum balance and name of the person\")"
   ]
  },
  {
   "cell_type": "code",
   "execution_count": 16,
   "id": "ac9ece5e",
   "metadata": {},
   "outputs": [
    {
     "name": "stdout",
     "output_type": "stream",
     "text": [
      "\n",
      "\n",
      "\u001b[1m> Entering new SQLDatabaseChain chain...\u001b[0m\n",
      "Provide average age of people with white color job\n",
      "SQLQuery:\u001b[32;1m\u001b[1;3mSELECT AVG(`Age`) AS `Average Age`\n",
      "FROM p6_uk_bank_customers\n",
      "WHERE `Job Classification` = 'White Collar';\u001b[0m\n",
      "SQLResult: \u001b[33;1m\u001b[1;3m[(Decimal('35.2793'),)]\u001b[0m\n",
      "Answer:\u001b[32;1m\u001b[1;3mThe average age of people with a white collar job is 35.2793 years.\u001b[0m\n",
      "\u001b[1m> Finished chain.\u001b[0m\n"
     ]
    },
    {
     "data": {
      "text/plain": [
       "'The average age of people with a white collar job is 35.2793 years.'"
      ]
     },
     "execution_count": 16,
     "metadata": {},
     "output_type": "execute_result"
    }
   ],
   "source": [
    "generate(\"Provide average age of people with white color job\")"
   ]
  },
  {
   "cell_type": "code",
   "execution_count": 17,
   "id": "53ef7b47",
   "metadata": {},
   "outputs": [
    {
     "name": "stdout",
     "output_type": "stream",
     "text": [
      "\n",
      "\n",
      "\u001b[1m> Entering new SQLDatabaseChain chain...\u001b[0m\n",
      "Provide count of people from Wales and doing white color jobs\n",
      "SQLQuery:\u001b[32;1m\u001b[1;3mSELECT COUNT(`Customer ID`) AS `Count`\n",
      "FROM p6_uk_bank_customers\n",
      "WHERE Region = 'Wales' AND `Job Classification` = 'White Collar';\u001b[0m\n",
      "SQLResult: \u001b[33;1m\u001b[1;3m[(305,)]\u001b[0m\n",
      "Answer:\u001b[32;1m\u001b[1;3mThere are 305 people from Wales doing white collar jobs.\u001b[0m\n",
      "\u001b[1m> Finished chain.\u001b[0m\n"
     ]
    },
    {
     "data": {
      "text/plain": [
       "'The count of people from Wales doing white collar jobs is 305.'"
      ]
     },
     "execution_count": 17,
     "metadata": {},
     "output_type": "execute_result"
    }
   ],
   "source": [
    "generate(\"Provide count of people from Wales and doing white color jobs\")"
   ]
  },
  {
   "cell_type": "code",
   "execution_count": 18,
   "id": "8da69c51",
   "metadata": {},
   "outputs": [
    {
     "name": "stdout",
     "output_type": "stream",
     "text": [
      "\n",
      "\n",
      "\u001b[1m> Entering new SQLDatabaseChain chain...\u001b[0m\n",
      "Provide count of all female people who are with White color job\n",
      "SQLQuery:\u001b[32;1m\u001b[1;3mSELECT COUNT(`Customer ID`) AS Female_White_Collar_Count\n",
      "FROM p6_uk_bank_customers\n",
      "WHERE Gender = 'Female' AND `Job Classification` = 'White Collar';\u001b[0m\n",
      "SQLResult: \u001b[33;1m\u001b[1;3m[(1010,)]\u001b[0m\n",
      "Answer:\u001b[32;1m\u001b[1;3mThere are 1010 female customers with a White Collar job.\u001b[0m\n",
      "\u001b[1m> Finished chain.\u001b[0m\n"
     ]
    },
    {
     "data": {
      "text/plain": [
       "'There are 1010 female customers with a White Collar job.'"
      ]
     },
     "execution_count": 18,
     "metadata": {},
     "output_type": "execute_result"
    }
   ],
   "source": [
    "generate(\"Provide count of all female people who are with White color job\")"
   ]
  },
  {
   "cell_type": "code",
   "execution_count": null,
   "id": "7960f316",
   "metadata": {},
   "outputs": [],
   "source": []
  }
 ],
 "metadata": {
  "kernelspec": {
   "display_name": "Python 3 (ipykernel)",
   "language": "python",
   "name": "python3"
  },
  "language_info": {
   "codemirror_mode": {
    "name": "ipython",
    "version": 3
   },
   "file_extension": ".py",
   "mimetype": "text/x-python",
   "name": "python",
   "nbconvert_exporter": "python",
   "pygments_lexer": "ipython3",
   "version": "3.9.13"
  }
 },
 "nbformat": 4,
 "nbformat_minor": 5
}
