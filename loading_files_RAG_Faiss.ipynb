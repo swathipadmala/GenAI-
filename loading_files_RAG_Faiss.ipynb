{
 "cells": [
  {
   "cell_type": "code",
   "execution_count": 6,
   "id": "129b1516",
   "metadata": {},
   "outputs": [],
   "source": [
    "import os\n",
    "os.environ[\"OPENAI_API_KEY\"]=\"your_api_key\"\n"
   ]
  },
  {
   "cell_type": "markdown",
   "id": "b5872ea2",
   "metadata": {},
   "source": [
    "Loading documents into DB"
   ]
  },
  {
   "cell_type": "code",
   "execution_count": 7,
   "id": "7034bf21",
   "metadata": {},
   "outputs": [],
   "source": [
    "from langchain_community.document_loaders import PyPDFLoader\n",
    "from langchain.text_splitter import RecursiveCharacterTextSplitter\n",
    "from langchain_community.vectorstores import FAISS\n",
    "from langchain_openai import OpenAIEmbeddings"
   ]
  },
  {
   "cell_type": "code",
   "execution_count": 8,
   "id": "d594d8e1",
   "metadata": {},
   "outputs": [],
   "source": [
    "#create a new file named vectorstore in your current directory.\n",
    "if __name__==\"__main__\":\n",
    "        DB_FAISS_PATH = 'vectorstore/db_faiss'\n",
    "        loader=PyPDFLoader(\"C:\\\\Users\\\\padma\\\\Downloads\\\\Task_for_internship\\\\Bhagavad-gita-Swami-BG-Narasingha.pdf\")\n",
    "        docs=loader.load()\n",
    "        text_splitter = RecursiveCharacterTextSplitter(chunk_size=1000, chunk_overlap=200)\n",
    "        splits = text_splitter.split_documents(docs)\n",
    "        vectorstore = FAISS.from_documents(documents=splits, embedding=OpenAIEmbeddings())\n",
    "        vectorstore.save_local(DB_FAISS_PATH)"
   ]
  },
  {
   "cell_type": "code",
   "execution_count": null,
   "id": "71706095",
   "metadata": {},
   "outputs": [],
   "source": []
  }
 ],
 "metadata": {
  "kernelspec": {
   "display_name": "Python 3 (ipykernel)",
   "language": "python",
   "name": "python3"
  },
  "language_info": {
   "codemirror_mode": {
    "name": "ipython",
    "version": 3
   },
   "file_extension": ".py",
   "mimetype": "text/x-python",
   "name": "python",
   "nbconvert_exporter": "python",
   "pygments_lexer": "ipython3",
   "version": "3.9.13"
  }
 },
 "nbformat": 4,
 "nbformat_minor": 5
}
